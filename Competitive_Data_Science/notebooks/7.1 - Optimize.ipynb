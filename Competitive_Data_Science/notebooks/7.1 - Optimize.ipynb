{
 "cells": [
  {
   "cell_type": "code",
   "execution_count": 3,
   "id": "f1f7d85a",
   "metadata": {},
   "outputs": [],
   "source": [
    "import pandas as pd\n",
    "import numpy as np"
   ]
  },
  {
   "cell_type": "markdown",
   "id": "96e5a0b7-076a-4bc8-912e-19271aa0a0de",
   "metadata": {
    "tags": []
   },
   "source": [
    "## Считывание и сохранение больших DataFrame"
   ]
  },
  {
   "cell_type": "markdown",
   "id": "312188a4-53f8-44ab-8cb3-45e5d36ede58",
   "metadata": {},
   "source": [
    "### Работа с pickle"
   ]
  },
  {
   "cell_type": "code",
   "execution_count": 9,
   "id": "a1fddb2f-ea96-4357-8b9a-8b261c74b87a",
   "metadata": {},
   "outputs": [
    {
     "name": "stdout",
     "output_type": "stream",
     "text": [
      "CPU times: user 1.6 s, sys: 307 ms, total: 1.91 s\n",
      "Wall time: 1.98 s\n"
     ]
    }
   ],
   "source": [
    "%%time\n",
    "\n",
    "data = pd.read_csv('../data/blending/text_classification_train.csv')"
   ]
  },
  {
   "cell_type": "code",
   "execution_count": 11,
   "id": "d8351a2a-ee31-4bcc-bc99-06358011364f",
   "metadata": {},
   "outputs": [
    {
     "data": {
      "text/plain": [
       "(7500, 2618)"
      ]
     },
     "execution_count": 11,
     "metadata": {},
     "output_type": "execute_result"
    }
   ],
   "source": [
    "data.shape"
   ]
  },
  {
   "cell_type": "code",
   "execution_count": 12,
   "id": "119088ac-d4bc-4eee-aa27-c1f44501bdcb",
   "metadata": {},
   "outputs": [
    {
     "name": "stdout",
     "output_type": "stream",
     "text": [
      "CPU times: user 8.63 s, sys: 449 ms, total: 9.08 s\n",
      "Wall time: 9.14 s\n"
     ]
    }
   ],
   "source": [
    "%%time\n",
    "\n",
    "data.to_csv('../data/blending/text_classification_train.csv')"
   ]
  },
  {
   "cell_type": "code",
   "execution_count": 13,
   "id": "4a416d50-1add-4197-ac5e-ce494c8c9a5d",
   "metadata": {},
   "outputs": [
    {
     "name": "stdout",
     "output_type": "stream",
     "text": [
      "CPU times: user 15.6 ms, sys: 27.3 ms, total: 42.9 ms\n",
      "Wall time: 54.7 ms\n"
     ]
    }
   ],
   "source": [
    "%%time\n",
    "\n",
    "pd.to_pickle(data, '../data/blending/text_classification_train.pickle')"
   ]
  },
  {
   "cell_type": "code",
   "execution_count": 14,
   "id": "e7a99dac-5fdf-4c2e-8952-8aa12f91d109",
   "metadata": {},
   "outputs": [
    {
     "name": "stdout",
     "output_type": "stream",
     "text": [
      "CPU times: user 17.5 ms, sys: 46.7 ms, total: 64.2 ms\n",
      "Wall time: 120 ms\n"
     ]
    }
   ],
   "source": [
    "%%time\n",
    "\n",
    "data = pd.read_pickle('../data/blending/text_classification_train.pickle')"
   ]
  },
  {
   "cell_type": "code",
   "execution_count": null,
   "id": "0bbf00db-b285-40c5-a8ae-8a8bbbdffb4c",
   "metadata": {},
   "outputs": [],
   "source": [
    "%%time\n",
    "# хорошо работает при больших данных\n",
    "\n",
    "df.to_parquet('train.parquet', index=False)\n",
    "df = pd.read_parquet('train.parquet')"
   ]
  },
  {
   "cell_type": "markdown",
   "id": "13f9fca9-6b39-4b53-983f-a873eaeff2cd",
   "metadata": {},
   "source": [
    "Примечание: при использование to_pickle() сохраняются индексы и все типы колонок, так что при его последующим считывание датафрейм будет точно таким же"
   ]
  },
  {
   "cell_type": "markdown",
   "id": "0ee11181-1394-4672-bb56-b8de49d398ae",
   "metadata": {
    "tags": []
   },
   "source": [
    "### Считывание по батчам"
   ]
  },
  {
   "cell_type": "code",
   "execution_count": 40,
   "id": "529fee35-8548-4a24-9b13-fec8ba55802c",
   "metadata": {},
   "outputs": [
    {
     "data": {
      "text/html": [
       "<div>\n",
       "<style scoped>\n",
       "    .dataframe tbody tr th:only-of-type {\n",
       "        vertical-align: middle;\n",
       "    }\n",
       "\n",
       "    .dataframe tbody tr th {\n",
       "        vertical-align: top;\n",
       "    }\n",
       "\n",
       "    .dataframe thead th {\n",
       "        text-align: right;\n",
       "    }\n",
       "</style>\n",
       "<table border=\"1\" class=\"dataframe\">\n",
       "  <thead>\n",
       "    <tr style=\"text-align: right;\">\n",
       "      <th></th>\n",
       "      <th>model</th>\n",
       "      <th>car_type</th>\n",
       "      <th>fuel_type</th>\n",
       "      <th>car_rating</th>\n",
       "      <th>year_to_start</th>\n",
       "      <th>riders</th>\n",
       "      <th>year_to_work</th>\n",
       "      <th>target_reg</th>\n",
       "      <th>target_class</th>\n",
       "    </tr>\n",
       "    <tr>\n",
       "      <th>car_id</th>\n",
       "      <th></th>\n",
       "      <th></th>\n",
       "      <th></th>\n",
       "      <th></th>\n",
       "      <th></th>\n",
       "      <th></th>\n",
       "      <th></th>\n",
       "      <th></th>\n",
       "      <th></th>\n",
       "    </tr>\n",
       "  </thead>\n",
       "  <tbody>\n",
       "    <tr>\n",
       "      <th>y13744087j</th>\n",
       "      <td>Kia Rio X-line</td>\n",
       "      <td>economy</td>\n",
       "      <td>petrol</td>\n",
       "      <td>3.78</td>\n",
       "      <td>2015</td>\n",
       "      <td>76163</td>\n",
       "      <td>2021</td>\n",
       "      <td>108.53</td>\n",
       "      <td>another_bug</td>\n",
       "    </tr>\n",
       "    <tr>\n",
       "      <th>O41613818T</th>\n",
       "      <td>VW Polo VI</td>\n",
       "      <td>economy</td>\n",
       "      <td>petrol</td>\n",
       "      <td>3.90</td>\n",
       "      <td>2015</td>\n",
       "      <td>78218</td>\n",
       "      <td>2021</td>\n",
       "      <td>35.20</td>\n",
       "      <td>electro_bug</td>\n",
       "    </tr>\n",
       "    <tr>\n",
       "      <th>d-2109686j</th>\n",
       "      <td>Renault Sandero</td>\n",
       "      <td>standart</td>\n",
       "      <td>petrol</td>\n",
       "      <td>6.30</td>\n",
       "      <td>2012</td>\n",
       "      <td>23340</td>\n",
       "      <td>2017</td>\n",
       "      <td>38.62</td>\n",
       "      <td>gear_stick</td>\n",
       "    </tr>\n",
       "    <tr>\n",
       "      <th>u29695600e</th>\n",
       "      <td>Mercedes-Benz GLC</td>\n",
       "      <td>business</td>\n",
       "      <td>petrol</td>\n",
       "      <td>4.04</td>\n",
       "      <td>2011</td>\n",
       "      <td>1263</td>\n",
       "      <td>2020</td>\n",
       "      <td>30.34</td>\n",
       "      <td>engine_fuel</td>\n",
       "    </tr>\n",
       "    <tr>\n",
       "      <th>N-8915870N</th>\n",
       "      <td>Renault Sandero</td>\n",
       "      <td>standart</td>\n",
       "      <td>petrol</td>\n",
       "      <td>4.70</td>\n",
       "      <td>2012</td>\n",
       "      <td>26428</td>\n",
       "      <td>2017</td>\n",
       "      <td>30.45</td>\n",
       "      <td>engine_fuel</td>\n",
       "    </tr>\n",
       "  </tbody>\n",
       "</table>\n",
       "</div>"
      ],
      "text/plain": [
       "                        model  car_type fuel_type  car_rating  year_to_start  \\\n",
       "car_id                                                                         \n",
       "y13744087j     Kia Rio X-line   economy    petrol        3.78           2015   \n",
       "O41613818T         VW Polo VI   economy    petrol        3.90           2015   \n",
       "d-2109686j    Renault Sandero  standart    petrol        6.30           2012   \n",
       "u29695600e  Mercedes-Benz GLC  business    petrol        4.04           2011   \n",
       "N-8915870N    Renault Sandero  standart    petrol        4.70           2012   \n",
       "\n",
       "            riders  year_to_work  target_reg target_class  \n",
       "car_id                                                     \n",
       "y13744087j   76163          2021      108.53  another_bug  \n",
       "O41613818T   78218          2021       35.20  electro_bug  \n",
       "d-2109686j   23340          2017       38.62   gear_stick  \n",
       "u29695600e    1263          2020       30.34  engine_fuel  \n",
       "N-8915870N   26428          2017       30.45  engine_fuel  "
      ]
     },
     "execution_count": 40,
     "metadata": {},
     "output_type": "execute_result"
    }
   ],
   "source": [
    "chunksize = 1000\n",
    "tmp_lst = []\n",
    "with pd.read_csv('../data/car_train.csv',\n",
    "                 index_col='car_id',\n",
    "                 dtype={'model': 'category',\n",
    "                        'car_type': 'category',\n",
    "                        'fuel_type': 'category',\n",
    "                        'target_class': 'category'}, chunksize=chunksize) as reader:\n",
    "    for chunk in reader:\n",
    "        tmp_lst.append(chunk)\n",
    "        \n",
    "data = pd.concat(tmp_lst) \n",
    "del tmp_lst\n",
    "data.head()"
   ]
  },
  {
   "cell_type": "markdown",
   "id": "2ef30edd-0204-449a-ac34-40ead2241ae6",
   "metadata": {},
   "source": [
    "### Используем генератор"
   ]
  },
  {
   "cell_type": "code",
   "execution_count": null,
   "id": "c342c156-f566-4830-992c-bb4672963efa",
   "metadata": {},
   "outputs": [],
   "source": [
    "def gen(path_to_file):\n",
    "#     with open(path_to_file, 'r', encoding='utf-8') as fin:\n",
    "#         line = fin.readline()\n",
    "    yield 1#, line"
   ]
  },
  {
   "cell_type": "markdown",
   "id": "8dd1ce94-b62c-46c3-90d2-6b8db52228cc",
   "metadata": {
    "tags": []
   },
   "source": [
    "## Оптимизация памяти"
   ]
  },
  {
   "cell_type": "markdown",
   "id": "b0dd5d51-e352-4901-8cf6-d63f6adea803",
   "metadata": {
    "tags": []
   },
   "source": [
    "### Настройка индексов"
   ]
  },
  {
   "cell_type": "code",
   "execution_count": 18,
   "id": "9e5175d2-beae-41b9-b9b9-4f93403f143b",
   "metadata": {},
   "outputs": [
    {
     "name": "stdout",
     "output_type": "stream",
     "text": [
      "<class 'pandas.core.frame.DataFrame'>\n",
      "RangeIndex: 7500 entries, 0 to 7499\n",
      "Columns: 2619 entries, Unnamed: 0 to labse_text_feature_767\n",
      "dtypes: float64(2616), int64(1), object(2)\n",
      "memory usage: 156.4 MB\n"
     ]
    }
   ],
   "source": [
    "data = pd.read_csv('../data/blending/text_classification_train.csv')\n",
    "data.info(memory_usage=\"deep\")"
   ]
  },
  {
   "cell_type": "code",
   "execution_count": 19,
   "id": "9b76f11f-8a40-45cd-9378-ed444d1e43a9",
   "metadata": {},
   "outputs": [
    {
     "name": "stdout",
     "output_type": "stream",
     "text": [
      "<class 'pandas.core.frame.DataFrame'>\n",
      "Int64Index: 7500 entries, 0 to 7499\n",
      "Columns: 2618 entries, category to labse_text_feature_767\n",
      "dtypes: float64(2616), object(2)\n",
      "memory usage: 156.4 MB\n"
     ]
    }
   ],
   "source": [
    "data = pd.read_csv('../data/blending/text_classification_train.csv', index_col='Unnamed: 0')\n",
    "data.info(memory_usage=\"deep\")"
   ]
  },
  {
   "cell_type": "markdown",
   "id": "aa2beb3b-0598-4510-9b00-5a43ef446e6e",
   "metadata": {},
   "source": [
    "### Оптимизируем числовые типы"
   ]
  },
  {
   "cell_type": "code",
   "execution_count": 20,
   "id": "b56ada90-2656-4e44-a555-6a5b285321bc",
   "metadata": {},
   "outputs": [],
   "source": [
    "def reduce_mem_usage(df):\n",
    "    \"\"\" iterate through all the columns of a dataframe and modify the data type\n",
    "        to reduce memory usage.\n",
    "    \"\"\"\n",
    "    start_mem = df.memory_usage().sum() / 1024**2\n",
    "    print('Memory usage of dataframe is {:.2f} MB'.format(start_mem))\n",
    "\n",
    "    for col in df.columns:\n",
    "        col_type = df[col].dtype.name\n",
    "\n",
    "        if col_type not in ['object', 'category', 'datetime64[ns, UTC]']:\n",
    "            c_min = df[col].min()\n",
    "            c_max = df[col].max()\n",
    "            if str(col_type)[:3] == 'int':\n",
    "                if c_min > np.iinfo(np.int8).min and c_max < np.iinfo(np.int8).max:\n",
    "                    df[col] = df[col].astype(np.int16)\n",
    "                elif c_min > np.iinfo(np.int16).min and c_max < np.iinfo(np.int16).max:\n",
    "                    df[col] = df[col].astype(np.int16)\n",
    "                elif c_min > np.iinfo(np.int32).min and c_max < np.iinfo(np.int32).max:\n",
    "                    df[col] = df[col].astype(np.int32)\n",
    "                elif c_min > np.iinfo(np.int64).min and c_max < np.iinfo(np.int64).max:\n",
    "                    df[col] = df[col].astype(np.int64)\n",
    "            else:\n",
    "                if c_min > np.finfo(np.float16).min and c_max < np.finfo(np.float16).max:\n",
    "                    df[col] = df[col].astype(np.float16)\n",
    "                elif c_min > np.finfo(np.float32).min and c_max < np.finfo(np.float32).max:\n",
    "                    df[col] = df[col].astype(np.float32)\n",
    "                else:\n",
    "                    df[col] = df[col].astype(np.float64)\n",
    "\n",
    "    end_mem = df.memory_usage().sum() / 1024**2\n",
    "    print('Memory usage after optimization is: {:.2f} MB'.format(end_mem))\n",
    "    print('Decreased by {:.1f}%'.format(100 * (start_mem - end_mem) / start_mem))\n",
    "\n",
    "    return df"
   ]
  },
  {
   "cell_type": "code",
   "execution_count": 21,
   "id": "b92488a8-74d6-4721-a77c-df52f17b82c6",
   "metadata": {},
   "outputs": [
    {
     "name": "stdout",
     "output_type": "stream",
     "text": [
      "Memory usage of dataframe is 149.86 MB\n",
      "Memory usage after optimization is: 37.59 MB\n",
      "Decreased by 74.9%\n",
      "<class 'pandas.core.frame.DataFrame'>\n",
      "Int64Index: 7500 entries, 0 to 7499\n",
      "Columns: 2618 entries, category to labse_text_feature_767\n",
      "dtypes: float16(2616), object(2)\n",
      "memory usage: 37.6+ MB\n"
     ]
    }
   ],
   "source": [
    "data = reduce_mem_usage(data)\n",
    "data.info()"
   ]
  },
  {
   "cell_type": "markdown",
   "id": "f9638224-e0c0-4cbb-9c5b-efdea1ce1e32",
   "metadata": {},
   "source": [
    "### Оптимизируем категориальные фичи"
   ]
  },
  {
   "cell_type": "code",
   "execution_count": 91,
   "id": "be9a82ff-3362-42f2-a00b-1b7da0168467",
   "metadata": {},
   "outputs": [
    {
     "data": {
      "text/html": [
       "<div>\n",
       "<style scoped>\n",
       "    .dataframe tbody tr th:only-of-type {\n",
       "        vertical-align: middle;\n",
       "    }\n",
       "\n",
       "    .dataframe tbody tr th {\n",
       "        vertical-align: top;\n",
       "    }\n",
       "\n",
       "    .dataframe thead th {\n",
       "        text-align: right;\n",
       "    }\n",
       "</style>\n",
       "<table border=\"1\" class=\"dataframe\">\n",
       "  <thead>\n",
       "    <tr style=\"text-align: right;\">\n",
       "      <th></th>\n",
       "      <th>car_id</th>\n",
       "      <th>model</th>\n",
       "      <th>car_type</th>\n",
       "      <th>fuel_type</th>\n",
       "      <th>car_rating</th>\n",
       "      <th>year_to_start</th>\n",
       "      <th>riders</th>\n",
       "      <th>year_to_work</th>\n",
       "      <th>target_reg</th>\n",
       "      <th>target_class</th>\n",
       "    </tr>\n",
       "  </thead>\n",
       "  <tbody>\n",
       "    <tr>\n",
       "      <th>0</th>\n",
       "      <td>y13744087j</td>\n",
       "      <td>Kia Rio X-line</td>\n",
       "      <td>economy</td>\n",
       "      <td>petrol</td>\n",
       "      <td>3.78</td>\n",
       "      <td>2015</td>\n",
       "      <td>76163</td>\n",
       "      <td>2021</td>\n",
       "      <td>108.53</td>\n",
       "      <td>another_bug</td>\n",
       "    </tr>\n",
       "    <tr>\n",
       "      <th>1</th>\n",
       "      <td>O41613818T</td>\n",
       "      <td>VW Polo VI</td>\n",
       "      <td>economy</td>\n",
       "      <td>petrol</td>\n",
       "      <td>3.90</td>\n",
       "      <td>2015</td>\n",
       "      <td>78218</td>\n",
       "      <td>2021</td>\n",
       "      <td>35.20</td>\n",
       "      <td>electro_bug</td>\n",
       "    </tr>\n",
       "    <tr>\n",
       "      <th>2</th>\n",
       "      <td>d-2109686j</td>\n",
       "      <td>Renault Sandero</td>\n",
       "      <td>standart</td>\n",
       "      <td>petrol</td>\n",
       "      <td>6.30</td>\n",
       "      <td>2012</td>\n",
       "      <td>23340</td>\n",
       "      <td>2017</td>\n",
       "      <td>38.62</td>\n",
       "      <td>gear_stick</td>\n",
       "    </tr>\n",
       "    <tr>\n",
       "      <th>3</th>\n",
       "      <td>u29695600e</td>\n",
       "      <td>Mercedes-Benz GLC</td>\n",
       "      <td>business</td>\n",
       "      <td>petrol</td>\n",
       "      <td>4.04</td>\n",
       "      <td>2011</td>\n",
       "      <td>1263</td>\n",
       "      <td>2020</td>\n",
       "      <td>30.34</td>\n",
       "      <td>engine_fuel</td>\n",
       "    </tr>\n",
       "    <tr>\n",
       "      <th>4</th>\n",
       "      <td>N-8915870N</td>\n",
       "      <td>Renault Sandero</td>\n",
       "      <td>standart</td>\n",
       "      <td>petrol</td>\n",
       "      <td>4.70</td>\n",
       "      <td>2012</td>\n",
       "      <td>26428</td>\n",
       "      <td>2017</td>\n",
       "      <td>30.45</td>\n",
       "      <td>engine_fuel</td>\n",
       "    </tr>\n",
       "  </tbody>\n",
       "</table>\n",
       "</div>"
      ],
      "text/plain": [
       "       car_id              model  car_type fuel_type  car_rating  \\\n",
       "0  y13744087j     Kia Rio X-line   economy    petrol        3.78   \n",
       "1  O41613818T         VW Polo VI   economy    petrol        3.90   \n",
       "2  d-2109686j    Renault Sandero  standart    petrol        6.30   \n",
       "3  u29695600e  Mercedes-Benz GLC  business    petrol        4.04   \n",
       "4  N-8915870N    Renault Sandero  standart    petrol        4.70   \n",
       "\n",
       "   year_to_start  riders  year_to_work  target_reg target_class  \n",
       "0           2015   76163          2021      108.53  another_bug  \n",
       "1           2015   78218          2021       35.20  electro_bug  \n",
       "2           2012   23340          2017       38.62   gear_stick  \n",
       "3           2011    1263          2020       30.34  engine_fuel  \n",
       "4           2012   26428          2017       30.45  engine_fuel  "
      ]
     },
     "execution_count": 91,
     "metadata": {},
     "output_type": "execute_result"
    }
   ],
   "source": [
    "df_cars = pd.read_csv('../data/car_train.csv')\n",
    "df_cars.head()"
   ]
  },
  {
   "cell_type": "code",
   "execution_count": 34,
   "id": "62bf4567-b32d-4adb-96e7-d359a542f9a5",
   "metadata": {},
   "outputs": [
    {
     "name": "stdout",
     "output_type": "stream",
     "text": [
      "<class 'pandas.core.frame.DataFrame'>\n",
      "RangeIndex: 2337 entries, 0 to 2336\n",
      "Data columns (total 10 columns):\n",
      " #   Column         Non-Null Count  Dtype  \n",
      "---  ------         --------------  -----  \n",
      " 0   car_id         2337 non-null   object \n",
      " 1   model          2337 non-null   object \n",
      " 2   car_type       2337 non-null   object \n",
      " 3   fuel_type      2337 non-null   object \n",
      " 4   car_rating     2337 non-null   float64\n",
      " 5   year_to_start  2337 non-null   int64  \n",
      " 6   riders         2337 non-null   int64  \n",
      " 7   year_to_work   2337 non-null   int64  \n",
      " 8   target_reg     2337 non-null   float64\n",
      " 9   target_class   2337 non-null   object \n",
      "dtypes: float64(2), int64(3), object(5)\n",
      "memory usage: 182.7+ KB\n"
     ]
    }
   ],
   "source": [
    "df_cars.info()"
   ]
  },
  {
   "cell_type": "code",
   "execution_count": 35,
   "id": "80f2bffc-e290-4031-a464-cd5073ea451e",
   "metadata": {},
   "outputs": [],
   "source": [
    "def convert_columns_to_catg(df, column_list):\n",
    "    for col in column_list:\n",
    "        print(\"converting\", col.ljust(30), \"size: \", round(df[col].memory_usage(deep=True)*1e-6,2), end=\"\\t\")\n",
    "        df[col] = df[col].astype(\"category\")\n",
    "        print(\"->\\t\", round(df[col].memory_usage(deep=True)*1e-6,2))"
   ]
  },
  {
   "cell_type": "code",
   "execution_count": 36,
   "id": "10c9fc58-7f9b-4260-b230-bc83e9675599",
   "metadata": {},
   "outputs": [
    {
     "name": "stdout",
     "output_type": "stream",
     "text": [
      "converting model                          size:  0.16\t->\t 0.01\n",
      "converting car_type                       size:  0.15\t->\t 0.0\n",
      "converting fuel_type                      size:  0.15\t->\t 0.0\n",
      "converting target_class                   size:  0.16\t->\t 0.0\n"
     ]
    }
   ],
   "source": [
    "convert_columns_to_catg(df_cars, ['model', 'car_type', 'fuel_type', 'target_class'])"
   ]
  },
  {
   "cell_type": "code",
   "execution_count": 37,
   "id": "70f8e424-426e-4e16-86c1-e7d04646e241",
   "metadata": {},
   "outputs": [
    {
     "name": "stdout",
     "output_type": "stream",
     "text": [
      "<class 'pandas.core.frame.DataFrame'>\n",
      "RangeIndex: 2337 entries, 0 to 2336\n",
      "Data columns (total 10 columns):\n",
      " #   Column         Non-Null Count  Dtype   \n",
      "---  ------         --------------  -----   \n",
      " 0   car_id         2337 non-null   object  \n",
      " 1   model          2337 non-null   category\n",
      " 2   car_type       2337 non-null   category\n",
      " 3   fuel_type      2337 non-null   category\n",
      " 4   car_rating     2337 non-null   float64 \n",
      " 5   year_to_start  2337 non-null   int64   \n",
      " 6   riders         2337 non-null   int64   \n",
      " 7   year_to_work   2337 non-null   int64   \n",
      " 8   target_reg     2337 non-null   float64 \n",
      " 9   target_class   2337 non-null   category\n",
      "dtypes: category(4), float64(2), int64(3), object(1)\n",
      "memory usage: 120.7+ KB\n"
     ]
    }
   ],
   "source": [
    "df_cars.info()"
   ]
  },
  {
   "cell_type": "code",
   "execution_count": 38,
   "id": "f6482b93-acc2-4ae7-8df2-a5e807d57f09",
   "metadata": {},
   "outputs": [
    {
     "name": "stdout",
     "output_type": "stream",
     "text": [
      "converting car_id                         size:  0.16\t->\t 0.23\n"
     ]
    }
   ],
   "source": [
    "convert_columns_to_catg(df_cars, ['car_id'])"
   ]
  },
  {
   "cell_type": "code",
   "execution_count": 39,
   "id": "879fc8c5-3de8-4d47-8a4c-305dea5f16e6",
   "metadata": {},
   "outputs": [
    {
     "name": "stdout",
     "output_type": "stream",
     "text": [
      "<class 'pandas.core.frame.DataFrame'>\n",
      "RangeIndex: 2337 entries, 0 to 2336\n",
      "Data columns (total 10 columns):\n",
      " #   Column         Non-Null Count  Dtype   \n",
      "---  ------         --------------  -----   \n",
      " 0   car_id         2337 non-null   category\n",
      " 1   model          2337 non-null   category\n",
      " 2   car_type       2337 non-null   category\n",
      " 3   fuel_type      2337 non-null   category\n",
      " 4   car_rating     2337 non-null   float64 \n",
      " 5   year_to_start  2337 non-null   int64   \n",
      " 6   riders         2337 non-null   int64   \n",
      " 7   year_to_work   2337 non-null   int64   \n",
      " 8   target_reg     2337 non-null   float64 \n",
      " 9   target_class   2337 non-null   category\n",
      "dtypes: category(5), float64(2), int64(3)\n",
      "memory usage: 189.8 KB\n"
     ]
    }
   ],
   "source": [
    "df_cars.info()"
   ]
  },
  {
   "cell_type": "markdown",
   "id": "98a38bad",
   "metadata": {
    "tags": []
   },
   "source": [
    "## Ускорение при помощи Numpy"
   ]
  },
  {
   "cell_type": "markdown",
   "id": "6d41963f-898b-4167-9ca4-e50b9a1830ef",
   "metadata": {},
   "source": [
    "### Инициализация"
   ]
  },
  {
   "cell_type": "code",
   "execution_count": 52,
   "id": "32fbd0b4",
   "metadata": {},
   "outputs": [
    {
     "name": "stdout",
     "output_type": "stream",
     "text": [
      "9.39 ms ± 116 µs per loop (mean ± std. dev. of 7 runs, 100 loops each)\n"
     ]
    }
   ],
   "source": [
    "%%timeit\n",
    "\n",
    "a = list(range(1_000_000))"
   ]
  },
  {
   "cell_type": "code",
   "execution_count": 57,
   "id": "441fbfa5",
   "metadata": {},
   "outputs": [
    {
     "name": "stdout",
     "output_type": "stream",
     "text": [
      "654 µs ± 29 µs per loop (mean ± std. dev. of 7 runs, 1,000 loops each)\n"
     ]
    }
   ],
   "source": [
    "%%timeit\n",
    "\n",
    "b = np.arange(1_000_000)"
   ]
  },
  {
   "cell_type": "code",
   "execution_count": 79,
   "id": "24cc1750-752a-480c-a907-d82f60385705",
   "metadata": {},
   "outputs": [],
   "source": [
    "a = list(range(1_000_000))"
   ]
  },
  {
   "cell_type": "code",
   "execution_count": 80,
   "id": "259b7894-850b-4b36-b27f-28bb175b6e9e",
   "metadata": {},
   "outputs": [],
   "source": [
    "b = np.arange(1_000_000)"
   ]
  },
  {
   "cell_type": "code",
   "execution_count": 81,
   "id": "9c2a30b8-ab92-47c6-a12d-275d7222d7cf",
   "metadata": {},
   "outputs": [
    {
     "name": "stdout",
     "output_type": "stream",
     "text": [
      "475 µs ± 3.21 µs per loop (mean ± std. dev. of 7 runs, 1,000 loops each)\n"
     ]
    }
   ],
   "source": [
    "%%timeit\n",
    "100000 in a"
   ]
  },
  {
   "cell_type": "code",
   "execution_count": 82,
   "id": "39e4ff13-56c0-4a85-8593-7fd70a664eb8",
   "metadata": {},
   "outputs": [
    {
     "name": "stdout",
     "output_type": "stream",
     "text": [
      "360 µs ± 2.72 µs per loop (mean ± std. dev. of 7 runs, 1,000 loops each)\n"
     ]
    }
   ],
   "source": [
    "%%timeit\n",
    "100000 in b"
   ]
  },
  {
   "cell_type": "markdown",
   "id": "62c7f0d4-e6e6-439d-84f2-ccf109e40b40",
   "metadata": {},
   "source": [
    "### Поэлементные функции"
   ]
  },
  {
   "cell_type": "code",
   "execution_count": 53,
   "id": "8087e44e-8250-4257-a4fa-8e39585eedf4",
   "metadata": {},
   "outputs": [
    {
     "name": "stdout",
     "output_type": "stream",
     "text": [
      "47.4 ms ± 390 µs per loop (mean ± std. dev. of 7 runs, 10 loops each)\n"
     ]
    }
   ],
   "source": [
    "%%timeit\n",
    "[el * el for el in a]"
   ]
  },
  {
   "cell_type": "code",
   "execution_count": 56,
   "id": "af30b4f2-e8ed-4170-b29a-cb8e279ac16f",
   "metadata": {},
   "outputs": [
    {
     "name": "stdout",
     "output_type": "stream",
     "text": [
      "53.4 ms ± 1.38 ms per loop (mean ± std. dev. of 7 runs, 10 loops each)\n"
     ]
    }
   ],
   "source": [
    "%%timeit\n",
    "[el + 10 for el in a]"
   ]
  },
  {
   "cell_type": "code",
   "execution_count": 55,
   "id": "b29d58c4-5940-4e2b-a350-123c27724fd1",
   "metadata": {},
   "outputs": [
    {
     "name": "stdout",
     "output_type": "stream",
     "text": [
      "670 µs ± 18.4 µs per loop (mean ± std. dev. of 7 runs, 1,000 loops each)\n"
     ]
    }
   ],
   "source": [
    "%%timeit\n",
    "b * b"
   ]
  },
  {
   "cell_type": "code",
   "execution_count": 60,
   "id": "6a2b279d-13b7-414d-af57-f4ae756ec18f",
   "metadata": {},
   "outputs": [
    {
     "name": "stdout",
     "output_type": "stream",
     "text": [
      "649 µs ± 24.6 µs per loop (mean ± std. dev. of 7 runs, 1,000 loops each)\n"
     ]
    }
   ],
   "source": [
    "%%timeit\n",
    "b + 10"
   ]
  },
  {
   "cell_type": "markdown",
   "id": "bfbf7665",
   "metadata": {},
   "source": [
    "### Aггрегирующие функции"
   ]
  },
  {
   "cell_type": "code",
   "execution_count": 62,
   "id": "13ff08cc",
   "metadata": {},
   "outputs": [
    {
     "name": "stdout",
     "output_type": "stream",
     "text": [
      "25.9 ms ± 140 µs per loop (mean ± std. dev. of 7 runs, 10 loops each)\n"
     ]
    }
   ],
   "source": [
    "%%timeit\n",
    "\n",
    "max(b)"
   ]
  },
  {
   "cell_type": "code",
   "execution_count": 63,
   "id": "d4e3484e",
   "metadata": {},
   "outputs": [
    {
     "name": "stdout",
     "output_type": "stream",
     "text": [
      "100 µs ± 202 ns per loop (mean ± std. dev. of 7 runs, 10,000 loops each)\n"
     ]
    }
   ],
   "source": [
    "%%timeit\n",
    "\n",
    "b.max()"
   ]
  },
  {
   "cell_type": "markdown",
   "id": "fe346a38",
   "metadata": {},
   "source": [
    "### Когда использовать List?"
   ]
  },
  {
   "cell_type": "code",
   "execution_count": 67,
   "id": "8bd5a950-6d97-4b0e-9826-4d3aa7d51b2d",
   "metadata": {},
   "outputs": [
    {
     "name": "stdout",
     "output_type": "stream",
     "text": [
      "302 ms ± 28.8 ms per loop (mean ± std. dev. of 7 runs, 1 loop each)\n"
     ]
    }
   ],
   "source": [
    "%%timeit\n",
    "\n",
    "a = np.zeros(0)\n",
    "for el in range(1000):\n",
    "    b = np.zeros(1000)\n",
    "    a = np.append(a, b)"
   ]
  },
  {
   "cell_type": "code",
   "execution_count": 68,
   "id": "4918c87a-d157-4ee0-86e3-f7db455ef425",
   "metadata": {},
   "outputs": [
    {
     "name": "stdout",
     "output_type": "stream",
     "text": [
      "20.2 ms ± 373 µs per loop (mean ± std. dev. of 7 runs, 10 loops each)\n"
     ]
    }
   ],
   "source": [
    "%%timeit\n",
    "\n",
    "a = []\n",
    "for el in range(1000):\n",
    "    b = [0 for i in range(1000)]\n",
    "    a += b"
   ]
  },
  {
   "cell_type": "markdown",
   "id": "22300bea-9b65-487a-8fc1-f8968e01f578",
   "metadata": {},
   "source": [
    "### Юзаем set()"
   ]
  },
  {
   "cell_type": "code",
   "execution_count": 87,
   "id": "f86689a7-c8bf-410c-aa1f-ffdef3f46955",
   "metadata": {},
   "outputs": [],
   "source": [
    "a = np.arange(1000)\n",
    "b = np.arange(1000000) * -1"
   ]
  },
  {
   "cell_type": "code",
   "execution_count": 88,
   "id": "9c79ecb9-4b42-40e3-97f0-b39a645e90f1",
   "metadata": {},
   "outputs": [
    {
     "name": "stdout",
     "output_type": "stream",
     "text": [
      "21.1 ms ± 530 µs per loop (mean ± std. dev. of 7 runs, 10 loops each)\n"
     ]
    }
   ],
   "source": [
    "%%timeit\n",
    "np.isin(a, b)"
   ]
  },
  {
   "cell_type": "code",
   "execution_count": 89,
   "id": "909bfb53-cbbd-4a56-aac7-3c94eef5c497",
   "metadata": {},
   "outputs": [],
   "source": [
    "st = set(b)"
   ]
  },
  {
   "cell_type": "code",
   "execution_count": 90,
   "id": "0eaa7f71-fde8-483e-b830-9b94d9ad6593",
   "metadata": {},
   "outputs": [
    {
     "name": "stdout",
     "output_type": "stream",
     "text": [
      "41 µs ± 243 ns per loop (mean ± std. dev. of 7 runs, 10,000 loops each)\n"
     ]
    }
   ],
   "source": [
    "%%timeit\n",
    "[el in st for el in a]"
   ]
  },
  {
   "cell_type": "markdown",
   "id": "f1f64977",
   "metadata": {},
   "source": [
    "## Векторизация в pandas"
   ]
  },
  {
   "cell_type": "code",
   "execution_count": 96,
   "id": "762c8d1a-ec1f-47c1-9868-c045aa209d3c",
   "metadata": {},
   "outputs": [
    {
     "data": {
      "text/html": [
       "<div>\n",
       "<style scoped>\n",
       "    .dataframe tbody tr th:only-of-type {\n",
       "        vertical-align: middle;\n",
       "    }\n",
       "\n",
       "    .dataframe tbody tr th {\n",
       "        vertical-align: top;\n",
       "    }\n",
       "\n",
       "    .dataframe thead th {\n",
       "        text-align: right;\n",
       "    }\n",
       "</style>\n",
       "<table border=\"1\" class=\"dataframe\">\n",
       "  <thead>\n",
       "    <tr style=\"text-align: right;\">\n",
       "      <th></th>\n",
       "      <th>car_id</th>\n",
       "      <th>model</th>\n",
       "      <th>car_type</th>\n",
       "      <th>fuel_type</th>\n",
       "      <th>car_rating</th>\n",
       "      <th>year_to_start</th>\n",
       "      <th>riders</th>\n",
       "      <th>year_to_work</th>\n",
       "      <th>target_reg</th>\n",
       "      <th>target_class</th>\n",
       "    </tr>\n",
       "  </thead>\n",
       "  <tbody>\n",
       "    <tr>\n",
       "      <th>0</th>\n",
       "      <td>y13744087j</td>\n",
       "      <td>Kia Rio X-line</td>\n",
       "      <td>economy</td>\n",
       "      <td>petrol</td>\n",
       "      <td>3.78</td>\n",
       "      <td>2015</td>\n",
       "      <td>76163</td>\n",
       "      <td>2021</td>\n",
       "      <td>108.53</td>\n",
       "      <td>another_bug</td>\n",
       "    </tr>\n",
       "    <tr>\n",
       "      <th>1</th>\n",
       "      <td>O41613818T</td>\n",
       "      <td>VW Polo VI</td>\n",
       "      <td>economy</td>\n",
       "      <td>petrol</td>\n",
       "      <td>3.90</td>\n",
       "      <td>2015</td>\n",
       "      <td>78218</td>\n",
       "      <td>2021</td>\n",
       "      <td>35.20</td>\n",
       "      <td>electro_bug</td>\n",
       "    </tr>\n",
       "    <tr>\n",
       "      <th>2</th>\n",
       "      <td>d-2109686j</td>\n",
       "      <td>Renault Sandero</td>\n",
       "      <td>standart</td>\n",
       "      <td>petrol</td>\n",
       "      <td>6.30</td>\n",
       "      <td>2012</td>\n",
       "      <td>23340</td>\n",
       "      <td>2017</td>\n",
       "      <td>38.62</td>\n",
       "      <td>gear_stick</td>\n",
       "    </tr>\n",
       "    <tr>\n",
       "      <th>3</th>\n",
       "      <td>u29695600e</td>\n",
       "      <td>Mercedes-Benz GLC</td>\n",
       "      <td>business</td>\n",
       "      <td>petrol</td>\n",
       "      <td>4.04</td>\n",
       "      <td>2011</td>\n",
       "      <td>1263</td>\n",
       "      <td>2020</td>\n",
       "      <td>30.34</td>\n",
       "      <td>engine_fuel</td>\n",
       "    </tr>\n",
       "    <tr>\n",
       "      <th>4</th>\n",
       "      <td>N-8915870N</td>\n",
       "      <td>Renault Sandero</td>\n",
       "      <td>standart</td>\n",
       "      <td>petrol</td>\n",
       "      <td>4.70</td>\n",
       "      <td>2012</td>\n",
       "      <td>26428</td>\n",
       "      <td>2017</td>\n",
       "      <td>30.45</td>\n",
       "      <td>engine_fuel</td>\n",
       "    </tr>\n",
       "  </tbody>\n",
       "</table>\n",
       "</div>"
      ],
      "text/plain": [
       "       car_id              model  car_type fuel_type  car_rating  \\\n",
       "0  y13744087j     Kia Rio X-line   economy    petrol        3.78   \n",
       "1  O41613818T         VW Polo VI   economy    petrol        3.90   \n",
       "2  d-2109686j    Renault Sandero  standart    petrol        6.30   \n",
       "3  u29695600e  Mercedes-Benz GLC  business    petrol        4.04   \n",
       "4  N-8915870N    Renault Sandero  standart    petrol        4.70   \n",
       "\n",
       "   year_to_start  riders  year_to_work  target_reg target_class  \n",
       "0           2015   76163          2021      108.53  another_bug  \n",
       "1           2015   78218          2021       35.20  electro_bug  \n",
       "2           2012   23340          2017       38.62   gear_stick  \n",
       "3           2011    1263          2020       30.34  engine_fuel  \n",
       "4           2012   26428          2017       30.45  engine_fuel  "
      ]
     },
     "execution_count": 96,
     "metadata": {},
     "output_type": "execute_result"
    }
   ],
   "source": [
    "df_cars.head()"
   ]
  },
  {
   "cell_type": "markdown",
   "id": "c8a24c38-7ef8-4ff1-bc45-e90a7f7a5c42",
   "metadata": {},
   "source": [
    "### Numpy.where()"
   ]
  },
  {
   "cell_type": "code",
   "execution_count": 110,
   "id": "aecc1b6d-3ca2-4f42-93fe-244ed3786a23",
   "metadata": {},
   "outputs": [],
   "source": [
    "def simple_if(x):\n",
    "    if x['car_rating'] < 3.78:\n",
    "        return x['car_type']\n",
    "    else:\n",
    "        return x['fuel_type']"
   ]
  },
  {
   "cell_type": "code",
   "execution_count": 112,
   "id": "9bea8102-c677-4100-8100-e59a9ca15275",
   "metadata": {},
   "outputs": [
    {
     "name": "stdout",
     "output_type": "stream",
     "text": [
      "7.44 ms ± 59.4 µs per loop (mean ± std. dev. of 7 runs, 100 loops each)\n"
     ]
    }
   ],
   "source": [
    "%%timeit\n",
    "df_cars.apply(simple_if, axis=1)"
   ]
  },
  {
   "cell_type": "code",
   "execution_count": 113,
   "id": "925af0c8-b509-4614-a693-8f36a2f9df59",
   "metadata": {},
   "outputs": [
    {
     "name": "stdout",
     "output_type": "stream",
     "text": [
      "19 µs ± 118 ns per loop (mean ± std. dev. of 7 runs, 100,000 loops each)\n"
     ]
    }
   ],
   "source": [
    "%%timeit\n",
    "np.where(df_cars['car_rating'].values < 3.78, df_cars['car_type'].values, df_cars['fuel_type'].values)"
   ]
  },
  {
   "cell_type": "markdown",
   "id": "2c7887c1-f306-4bfc-8249-6acf97410bd3",
   "metadata": {},
   "source": [
    "### Numpy.vectorize()"
   ]
  },
  {
   "cell_type": "code",
   "execution_count": 114,
   "id": "0a855e75-3d13-47bb-a5ea-7fd54cd3422e",
   "metadata": {},
   "outputs": [],
   "source": [
    "def simple_if2(car_rating, car_type, fuel_type):\n",
    "    if car_rating < 3.78:\n",
    "        return car_type\n",
    "    else:\n",
    "        return fuel_type"
   ]
  },
  {
   "cell_type": "code",
   "execution_count": 117,
   "id": "a1802c91-4712-4c91-be3f-929a620f8d4d",
   "metadata": {},
   "outputs": [],
   "source": [
    "vectfunc = np.vectorize(simple_if2)"
   ]
  },
  {
   "cell_type": "code",
   "execution_count": 120,
   "id": "501363c4-6441-4c38-aa25-616b9bc5d8fc",
   "metadata": {},
   "outputs": [
    {
     "name": "stdout",
     "output_type": "stream",
     "text": [
      "349 µs ± 5.72 µs per loop (mean ± std. dev. of 7 runs, 1,000 loops each)\n"
     ]
    }
   ],
   "source": [
    "%%timeit\n",
    "vectfunc(df_cars['car_rating'], df_cars['car_type'], df_cars['fuel_type'])"
   ]
  },
  {
   "cell_type": "markdown",
   "id": "a6b022e5-294d-4f0c-9408-227ab3818dce",
   "metadata": {},
   "source": [
    "### Numpy.select()"
   ]
  },
  {
   "cell_type": "code",
   "execution_count": 138,
   "id": "9fe7de07-339b-44a6-a95b-2926ce80b0a4",
   "metadata": {},
   "outputs": [],
   "source": [
    "import re\n",
    "\n",
    "def hard_if(x):\n",
    "    if x['car_rating'] < 3:\n",
    "        if 'Audi' == x['model']:\n",
    "            return 0\n",
    "        else:\n",
    "            return 1\n",
    "    elif x['car_rating'] in [3, 4, 5]:\n",
    "        return 2\n",
    "    else:\n",
    "        return 3"
   ]
  },
  {
   "cell_type": "code",
   "execution_count": 139,
   "id": "0d86cd76-849c-492c-8179-f876dd7981ee",
   "metadata": {},
   "outputs": [
    {
     "name": "stdout",
     "output_type": "stream",
     "text": [
      "7.38 ms ± 53.3 µs per loop (mean ± std. dev. of 7 runs, 100 loops each)\n"
     ]
    }
   ],
   "source": [
    "%%timeit\n",
    "df_cars.apply(simple_if, axis=1)"
   ]
  },
  {
   "cell_type": "code",
   "execution_count": 140,
   "id": "dcd211bb-49c7-4fdb-bcae-2b3efa9eaf50",
   "metadata": {},
   "outputs": [
    {
     "name": "stdout",
     "output_type": "stream",
     "text": [
      "347 µs ± 4.75 µs per loop (mean ± std. dev. of 7 runs, 1,000 loops each)\n"
     ]
    }
   ],
   "source": [
    "%%timeit\n",
    "conditions = [\n",
    "    (df_cars['car_rating'] < 3) & (df_cars['model'] == 'Audi'),\n",
    "    (df_cars['car_rating'] < 3),\n",
    "    df_cars['car_rating'].isin([3, 4, 5])\n",
    "]\n",
    "\n",
    "choices = [0, 1, 2]\n",
    "np.select(conditions, choices, default=3)"
   ]
  },
  {
   "cell_type": "markdown",
   "id": "08f7d12c-4370-4e96-8920-3f33e2755e5c",
   "metadata": {},
   "source": [
    "### Переписываем словари"
   ]
  },
  {
   "cell_type": "code",
   "execution_count": 147,
   "id": "7acd13c1-cac3-4d61-8230-f4b1dbdd459a",
   "metadata": {},
   "outputs": [],
   "source": [
    "mydict = {'economy': 0,\n",
    "          'standart': 1,\n",
    "          'business': 2,\n",
    "          'premium': 3}\n",
    "def f(x):\n",
    "    if x['car_rating'] > 5:\n",
    "        return mydict[x['car_type']]\n",
    "    else:\n",
    "        return np.nan"
   ]
  },
  {
   "cell_type": "code",
   "execution_count": 148,
   "id": "5c5fb6c5-229c-4905-86b7-3d086f70f8ed",
   "metadata": {},
   "outputs": [
    {
     "name": "stdout",
     "output_type": "stream",
     "text": [
      "7.65 ms ± 75.4 µs per loop (mean ± std. dev. of 7 runs, 100 loops each)\n"
     ]
    }
   ],
   "source": [
    "%%timeit\n",
    "df_cars.apply(simple_if, axis=1)"
   ]
  },
  {
   "cell_type": "code",
   "execution_count": 151,
   "id": "3c7e3720-bba7-4301-9d31-e0096bbe30c9",
   "metadata": {},
   "outputs": [
    {
     "name": "stdout",
     "output_type": "stream",
     "text": [
      "222 µs ± 4.18 µs per loop (mean ± std. dev. of 7 runs, 1,000 loops each)\n"
     ]
    }
   ],
   "source": [
    "%%timeit\n",
    "np.where(df_cars['car_rating'] > 5, df_cars['car_type'].map(mydict), np.nan)"
   ]
  },
  {
   "cell_type": "markdown",
   "id": "c03fbe3c-7934-4892-9489-8adda002eb4d",
   "metadata": {},
   "source": [
    "### Пишем groupby на numpy"
   ]
  },
  {
   "cell_type": "code",
   "execution_count": 172,
   "id": "1d999427-2248-46fb-a896-7fad142452ff",
   "metadata": {},
   "outputs": [],
   "source": [
    "from sklearn import preprocessing\n",
    "lbl = preprocessing.LabelEncoder()\n",
    "df_cars['int_model'] = lbl.fit_transform((df_cars['model'] + df_cars['fuel_type']).astype(str))"
   ]
  },
  {
   "cell_type": "code",
   "execution_count": 173,
   "id": "374f13bd-a55c-4635-90a2-28f523d105ad",
   "metadata": {},
   "outputs": [
    {
     "name": "stdout",
     "output_type": "stream",
     "text": [
      "340 µs ± 10.7 µs per loop (mean ± std. dev. of 7 runs, 1,000 loops each)\n"
     ]
    }
   ],
   "source": [
    "%%timeit\n",
    "df_cars.groupby(['model', 'fuel_type'])['target_reg'].sum()"
   ]
  },
  {
   "cell_type": "code",
   "execution_count": 174,
   "id": "576598d2-4f73-419c-b84f-a1612508012d",
   "metadata": {},
   "outputs": [
    {
     "name": "stdout",
     "output_type": "stream",
     "text": [
      "9.63 µs ± 35.7 ns per loop (mean ± std. dev. of 7 runs, 100,000 loops each)\n"
     ]
    }
   ],
   "source": [
    "%%timeit\n",
    "np.bincount(df_cars['int_model'], weights=df_cars['target_reg'])"
   ]
  },
  {
   "cell_type": "code",
   "execution_count": 175,
   "id": "5017fd7e-8302-48d7-8101-1b1140082c9d",
   "metadata": {},
   "outputs": [
    {
     "name": "stdout",
     "output_type": "stream",
     "text": [
      "335 µs ± 3.11 µs per loop (mean ± std. dev. of 7 runs, 1,000 loops each)\n"
     ]
    }
   ],
   "source": [
    "%%timeit\n",
    "df_cars.groupby(['model', 'fuel_type'])['target_reg'].mean()"
   ]
  },
  {
   "cell_type": "code",
   "execution_count": 176,
   "id": "0d159c7d-4cbe-424f-b891-eeb2ecbaec45",
   "metadata": {},
   "outputs": [
    {
     "name": "stdout",
     "output_type": "stream",
     "text": [
      "19.7 µs ± 104 ns per loop (mean ± std. dev. of 7 runs, 10,000 loops each)\n"
     ]
    }
   ],
   "source": [
    "%%timeit\n",
    "sums = np.bincount(df_cars['int_model'], weights=df_cars['target_reg'])\n",
    "cnt = np.bincount(df_cars['int_model'], weights=df_cars['target_reg'])\n",
    "sums / cnt"
   ]
  },
  {
   "cell_type": "markdown",
   "id": "8216b2ed",
   "metadata": {},
   "source": [
    "## Многопоточное apply"
   ]
  },
  {
   "cell_type": "markdown",
   "id": "a3109f2f-b19a-4159-9139-ea488a02ef29",
   "metadata": {},
   "source": [
    "### Swifter"
   ]
  },
  {
   "cell_type": "code",
   "execution_count": 179,
   "id": "cabdad1b",
   "metadata": {},
   "outputs": [],
   "source": [
    "!pip install swifter -q"
   ]
  },
  {
   "cell_type": "code",
   "execution_count": 181,
   "id": "78f36dc6",
   "metadata": {},
   "outputs": [],
   "source": [
    "import swifter"
   ]
  },
  {
   "cell_type": "code",
   "execution_count": 230,
   "id": "8acd46ea-cd1f-4e1a-90e4-e56d6deab467",
   "metadata": {},
   "outputs": [
    {
     "data": {
      "text/plain": [
       "<module 'text_prepare' from '/Users/sergak/Documents/Neyro_sets/Competitive_Data_Science/notebooks/../src/text_prepare.py'>"
      ]
     },
     "execution_count": 230,
     "metadata": {},
     "output_type": "execute_result"
    }
   ],
   "source": [
    "import sys\n",
    "sys.path.append('../src/')\n",
    "import text_prepare\n",
    "import importlib\n",
    "importlib.reload(text_prepare)"
   ]
  },
  {
   "cell_type": "code",
   "execution_count": 221,
   "id": "791be862-ec82-4e9a-94db-6fd8f70db214",
   "metadata": {},
   "outputs": [
    {
     "data": {
      "text/html": [
       "<div>\n",
       "<style scoped>\n",
       "    .dataframe tbody tr th:only-of-type {\n",
       "        vertical-align: middle;\n",
       "    }\n",
       "\n",
       "    .dataframe tbody tr th {\n",
       "        vertical-align: top;\n",
       "    }\n",
       "\n",
       "    .dataframe thead th {\n",
       "        text-align: right;\n",
       "    }\n",
       "</style>\n",
       "<table border=\"1\" class=\"dataframe\">\n",
       "  <thead>\n",
       "    <tr style=\"text-align: right;\">\n",
       "      <th></th>\n",
       "      <th>category</th>\n",
       "      <th>text</th>\n",
       "    </tr>\n",
       "  </thead>\n",
       "  <tbody>\n",
       "    <tr>\n",
       "      <th>0</th>\n",
       "      <td>extreme</td>\n",
       "      <td>Ледник Пасторури это цирковой ледник расположе...</td>\n",
       "    </tr>\n",
       "    <tr>\n",
       "      <th>1</th>\n",
       "      <td>martial_arts</td>\n",
       "      <td>Главные участники предстоящего Betokenoid 274 ...</td>\n",
       "    </tr>\n",
       "    <tr>\n",
       "      <th>2</th>\n",
       "      <td>extreme</td>\n",
       "      <td>Ttokenoid Btokenoid – карта с которой можно не...</td>\n",
       "    </tr>\n",
       "    <tr>\n",
       "      <th>3</th>\n",
       "      <td>autosport</td>\n",
       "      <td>В Сильверстоуне произошли крупные обновления а...</td>\n",
       "    </tr>\n",
       "    <tr>\n",
       "      <th>4</th>\n",
       "      <td>extreme</td>\n",
       "      <td>На протяжении более чем 30 лет Вестсайд являет...</td>\n",
       "    </tr>\n",
       "  </tbody>\n",
       "</table>\n",
       "</div>"
      ],
      "text/plain": [
       "       category                                               text\n",
       "0       extreme  Ледник Пасторури это цирковой ледник расположе...\n",
       "1  martial_arts  Главные участники предстоящего Betokenoid 274 ...\n",
       "2       extreme  Ttokenoid Btokenoid – карта с которой можно не...\n",
       "3     autosport  В Сильверстоуне произошли крупные обновления а...\n",
       "4       extreme  На протяжении более чем 30 лет Вестсайд являет..."
      ]
     },
     "execution_count": 221,
     "metadata": {},
     "output_type": "execute_result"
    }
   ],
   "source": [
    "df = pd.read_csv('../data/blending/text_transformer_data.csv')\n",
    "df.head()"
   ]
  },
  {
   "cell_type": "code",
   "execution_count": 232,
   "id": "958891b0",
   "metadata": {},
   "outputs": [
    {
     "name": "stdout",
     "output_type": "stream",
     "text": [
      "CPU times: user 17.5 s, sys: 3.87 s, total: 21.3 s\n",
      "Wall time: 21.6 s\n"
     ]
    }
   ],
   "source": [
    "%%time\n",
    "\n",
    "tmp = df['text'].apply(text_prepare.text_prepare)"
   ]
  },
  {
   "cell_type": "code",
   "execution_count": 233,
   "id": "5bb9ecdb",
   "metadata": {},
   "outputs": [
    {
     "data": {
      "application/vnd.jupyter.widget-view+json": {
       "model_id": "8680419a6139417fb6e27978d9796a50",
       "version_major": 2,
       "version_minor": 0
      },
      "text/plain": [
       "Pandas Apply:   0%|          | 0/500 [00:00<?, ?it/s]"
      ]
     },
     "metadata": {},
     "output_type": "display_data"
    },
    {
     "name": "stdout",
     "output_type": "stream",
     "text": [
      "CPU times: user 19.1 s, sys: 4.24 s, total: 23.3 s\n",
      "Wall time: 23.4 s\n"
     ]
    }
   ],
   "source": [
    "%%time\n",
    "\n",
    "tmp = df['text'].swifter.apply(text_prepare.text_prepare)"
   ]
  },
  {
   "cell_type": "markdown",
   "id": "0d2318c8-bcf0-4b2d-9b5f-c9d24e624561",
   "metadata": {},
   "source": [
    "### Multiprocessing"
   ]
  },
  {
   "cell_type": "code",
   "execution_count": 220,
   "id": "aea269f7-f374-4935-a6c1-abf07cb8929b",
   "metadata": {},
   "outputs": [],
   "source": [
    "from multiprocessing import  Pool"
   ]
  },
  {
   "cell_type": "code",
   "execution_count": 228,
   "id": "5fc23736-1fc9-48ee-aa3e-e983e45ce8da",
   "metadata": {},
   "outputs": [],
   "source": [
    "def parallelize_dataframe(df, func, n_cores=4):\n",
    "    df_split = np.array_split(df, n_cores)\n",
    "    pool = Pool(n_cores)\n",
    "    df = np.concatenate(pool.map(func, df_split))\n",
    "    pool.close()\n",
    "    pool.join()\n",
    "    return df"
   ]
  },
  {
   "cell_type": "code",
   "execution_count": 231,
   "id": "8725a0cc-775a-4b0d-94a2-30ccf50e664a",
   "metadata": {},
   "outputs": [
    {
     "name": "stdout",
     "output_type": "stream",
     "text": [
      "CPU times: user 10.2 ms, sys: 39 ms, total: 49.2 ms\n",
      "Wall time: 6.41 s\n"
     ]
    }
   ],
   "source": [
    "%%time\n",
    "tmp = parallelize_dataframe(df, text_prepare.many_row_prepare)"
   ]
  },
  {
   "cell_type": "markdown",
   "id": "93aab443",
   "metadata": {},
   "source": [
    "### Dask"
   ]
  },
  {
   "cell_type": "code",
   "execution_count": 66,
   "id": "d3fdf890",
   "metadata": {},
   "outputs": [],
   "source": [
    "import dask.dataframe as dd"
   ]
  },
  {
   "cell_type": "code",
   "execution_count": 73,
   "id": "ac796d73",
   "metadata": {},
   "outputs": [],
   "source": [
    "ddf = dd.read_csv('transactions_train.csv')"
   ]
  },
  {
   "cell_type": "code",
   "execution_count": 75,
   "id": "a6612a99",
   "metadata": {},
   "outputs": [
    {
     "data": {
      "text/html": [
       "<div>\n",
       "<style scoped>\n",
       "    .dataframe tbody tr th:only-of-type {\n",
       "        vertical-align: middle;\n",
       "    }\n",
       "\n",
       "    .dataframe tbody tr th {\n",
       "        vertical-align: top;\n",
       "    }\n",
       "\n",
       "    .dataframe thead th {\n",
       "        text-align: right;\n",
       "    }\n",
       "</style>\n",
       "<table border=\"1\" class=\"dataframe\">\n",
       "  <thead>\n",
       "    <tr style=\"text-align: right;\">\n",
       "      <th></th>\n",
       "      <th>t_dat</th>\n",
       "      <th>customer_id</th>\n",
       "      <th>article_id</th>\n",
       "      <th>price</th>\n",
       "      <th>sales_channel_id</th>\n",
       "    </tr>\n",
       "  </thead>\n",
       "  <tbody>\n",
       "    <tr>\n",
       "      <th>0</th>\n",
       "      <td>2018-09-20</td>\n",
       "      <td>000058a12d5b43e67d225668fa1f8d618c13dc232df0ca...</td>\n",
       "      <td>663713001</td>\n",
       "      <td>0.050831</td>\n",
       "      <td>2</td>\n",
       "    </tr>\n",
       "    <tr>\n",
       "      <th>1</th>\n",
       "      <td>2018-09-20</td>\n",
       "      <td>000058a12d5b43e67d225668fa1f8d618c13dc232df0ca...</td>\n",
       "      <td>541518023</td>\n",
       "      <td>0.030492</td>\n",
       "      <td>2</td>\n",
       "    </tr>\n",
       "    <tr>\n",
       "      <th>2</th>\n",
       "      <td>2018-09-20</td>\n",
       "      <td>00007d2de826758b65a93dd24ce629ed66842531df6699...</td>\n",
       "      <td>505221004</td>\n",
       "      <td>0.015237</td>\n",
       "      <td>2</td>\n",
       "    </tr>\n",
       "    <tr>\n",
       "      <th>3</th>\n",
       "      <td>2018-09-20</td>\n",
       "      <td>00007d2de826758b65a93dd24ce629ed66842531df6699...</td>\n",
       "      <td>685687003</td>\n",
       "      <td>0.016932</td>\n",
       "      <td>2</td>\n",
       "    </tr>\n",
       "    <tr>\n",
       "      <th>4</th>\n",
       "      <td>2018-09-20</td>\n",
       "      <td>00007d2de826758b65a93dd24ce629ed66842531df6699...</td>\n",
       "      <td>685687004</td>\n",
       "      <td>0.016932</td>\n",
       "      <td>2</td>\n",
       "    </tr>\n",
       "  </tbody>\n",
       "</table>\n",
       "</div>"
      ],
      "text/plain": [
       "        t_dat                                        customer_id  article_id  \\\n",
       "0  2018-09-20  000058a12d5b43e67d225668fa1f8d618c13dc232df0ca...   663713001   \n",
       "1  2018-09-20  000058a12d5b43e67d225668fa1f8d618c13dc232df0ca...   541518023   \n",
       "2  2018-09-20  00007d2de826758b65a93dd24ce629ed66842531df6699...   505221004   \n",
       "3  2018-09-20  00007d2de826758b65a93dd24ce629ed66842531df6699...   685687003   \n",
       "4  2018-09-20  00007d2de826758b65a93dd24ce629ed66842531df6699...   685687004   \n",
       "\n",
       "      price  sales_channel_id  \n",
       "0  0.050831                 2  \n",
       "1  0.030492                 2  \n",
       "2  0.015237                 2  \n",
       "3  0.016932                 2  \n",
       "4  0.016932                 2  "
      ]
     },
     "execution_count": 75,
     "metadata": {},
     "output_type": "execute_result"
    }
   ],
   "source": [
    "ddf.head()"
   ]
  },
  {
   "cell_type": "markdown",
   "id": "077f10aa",
   "metadata": {},
   "source": [
    "#### Особенность dask - .compute()"
   ]
  },
  {
   "cell_type": "markdown",
   "id": "175a5e02",
   "metadata": {},
   "source": [
    "зато можно посмотреть типы данных, head, задать фильтры и только потом зачитать целиком файл, делать select по колонкам "
   ]
  },
  {
   "cell_type": "markdown",
   "id": "e4477399",
   "metadata": {},
   "source": [
    "этот принцип называется lazy_evaluation"
   ]
  },
  {
   "cell_type": "code",
   "execution_count": 76,
   "id": "f5ae00cf",
   "metadata": {},
   "outputs": [],
   "source": [
    "ddf = ddf[ddf.sales_channel_id==2]"
   ]
  },
  {
   "cell_type": "code",
   "execution_count": 77,
   "id": "3f3e837e",
   "metadata": {},
   "outputs": [
    {
     "data": {
      "text/html": [
       "<div>\n",
       "<style scoped>\n",
       "    .dataframe tbody tr th:only-of-type {\n",
       "        vertical-align: middle;\n",
       "    }\n",
       "\n",
       "    .dataframe tbody tr th {\n",
       "        vertical-align: top;\n",
       "    }\n",
       "\n",
       "    .dataframe thead th {\n",
       "        text-align: right;\n",
       "    }\n",
       "</style>\n",
       "<table border=\"1\" class=\"dataframe\">\n",
       "  <thead>\n",
       "    <tr style=\"text-align: right;\">\n",
       "      <th></th>\n",
       "      <th>t_dat</th>\n",
       "      <th>customer_id</th>\n",
       "      <th>article_id</th>\n",
       "      <th>price</th>\n",
       "      <th>sales_channel_id</th>\n",
       "    </tr>\n",
       "  </thead>\n",
       "  <tbody>\n",
       "    <tr>\n",
       "      <th>0</th>\n",
       "      <td>2018-09-20</td>\n",
       "      <td>000058a12d5b43e67d225668fa1f8d618c13dc232df0ca...</td>\n",
       "      <td>663713001</td>\n",
       "      <td>0.050831</td>\n",
       "      <td>2</td>\n",
       "    </tr>\n",
       "    <tr>\n",
       "      <th>1</th>\n",
       "      <td>2018-09-20</td>\n",
       "      <td>000058a12d5b43e67d225668fa1f8d618c13dc232df0ca...</td>\n",
       "      <td>541518023</td>\n",
       "      <td>0.030492</td>\n",
       "      <td>2</td>\n",
       "    </tr>\n",
       "    <tr>\n",
       "      <th>2</th>\n",
       "      <td>2018-09-20</td>\n",
       "      <td>00007d2de826758b65a93dd24ce629ed66842531df6699...</td>\n",
       "      <td>505221004</td>\n",
       "      <td>0.015237</td>\n",
       "      <td>2</td>\n",
       "    </tr>\n",
       "    <tr>\n",
       "      <th>3</th>\n",
       "      <td>2018-09-20</td>\n",
       "      <td>00007d2de826758b65a93dd24ce629ed66842531df6699...</td>\n",
       "      <td>685687003</td>\n",
       "      <td>0.016932</td>\n",
       "      <td>2</td>\n",
       "    </tr>\n",
       "    <tr>\n",
       "      <th>4</th>\n",
       "      <td>2018-09-20</td>\n",
       "      <td>00007d2de826758b65a93dd24ce629ed66842531df6699...</td>\n",
       "      <td>685687004</td>\n",
       "      <td>0.016932</td>\n",
       "      <td>2</td>\n",
       "    </tr>\n",
       "    <tr>\n",
       "      <th>...</th>\n",
       "      <td>...</td>\n",
       "      <td>...</td>\n",
       "      <td>...</td>\n",
       "      <td>...</td>\n",
       "      <td>...</td>\n",
       "    </tr>\n",
       "    <tr>\n",
       "      <th>588584</th>\n",
       "      <td>2020-09-22</td>\n",
       "      <td>ffd4cf2217de4a0a3f9f610cdec334c803692a18af08ac...</td>\n",
       "      <td>902288001</td>\n",
       "      <td>0.022017</td>\n",
       "      <td>2</td>\n",
       "    </tr>\n",
       "    <tr>\n",
       "      <th>588585</th>\n",
       "      <td>2020-09-22</td>\n",
       "      <td>ffd4cf2217de4a0a3f9f610cdec334c803692a18af08ac...</td>\n",
       "      <td>856440002</td>\n",
       "      <td>0.042356</td>\n",
       "      <td>2</td>\n",
       "    </tr>\n",
       "    <tr>\n",
       "      <th>588586</th>\n",
       "      <td>2020-09-22</td>\n",
       "      <td>fff2282977442e327b45d8c89afde25617d00124d0f999...</td>\n",
       "      <td>929511001</td>\n",
       "      <td>0.059305</td>\n",
       "      <td>2</td>\n",
       "    </tr>\n",
       "    <tr>\n",
       "      <th>588587</th>\n",
       "      <td>2020-09-22</td>\n",
       "      <td>fff2282977442e327b45d8c89afde25617d00124d0f999...</td>\n",
       "      <td>891322004</td>\n",
       "      <td>0.042356</td>\n",
       "      <td>2</td>\n",
       "    </tr>\n",
       "    <tr>\n",
       "      <th>588590</th>\n",
       "      <td>2020-09-22</td>\n",
       "      <td>fffef3b6b73545df065b521e19f64bf6fe93bfd450ab20...</td>\n",
       "      <td>898573003</td>\n",
       "      <td>0.033881</td>\n",
       "      <td>2</td>\n",
       "    </tr>\n",
       "  </tbody>\n",
       "</table>\n",
       "<p>22379862 rows × 5 columns</p>\n",
       "</div>"
      ],
      "text/plain": [
       "             t_dat                                        customer_id  \\\n",
       "0       2018-09-20  000058a12d5b43e67d225668fa1f8d618c13dc232df0ca...   \n",
       "1       2018-09-20  000058a12d5b43e67d225668fa1f8d618c13dc232df0ca...   \n",
       "2       2018-09-20  00007d2de826758b65a93dd24ce629ed66842531df6699...   \n",
       "3       2018-09-20  00007d2de826758b65a93dd24ce629ed66842531df6699...   \n",
       "4       2018-09-20  00007d2de826758b65a93dd24ce629ed66842531df6699...   \n",
       "...            ...                                                ...   \n",
       "588584  2020-09-22  ffd4cf2217de4a0a3f9f610cdec334c803692a18af08ac...   \n",
       "588585  2020-09-22  ffd4cf2217de4a0a3f9f610cdec334c803692a18af08ac...   \n",
       "588586  2020-09-22  fff2282977442e327b45d8c89afde25617d00124d0f999...   \n",
       "588587  2020-09-22  fff2282977442e327b45d8c89afde25617d00124d0f999...   \n",
       "588590  2020-09-22  fffef3b6b73545df065b521e19f64bf6fe93bfd450ab20...   \n",
       "\n",
       "        article_id     price  sales_channel_id  \n",
       "0        663713001  0.050831                 2  \n",
       "1        541518023  0.030492                 2  \n",
       "2        505221004  0.015237                 2  \n",
       "3        685687003  0.016932                 2  \n",
       "4        685687004  0.016932                 2  \n",
       "...            ...       ...               ...  \n",
       "588584   902288001  0.022017                 2  \n",
       "588585   856440002  0.042356                 2  \n",
       "588586   929511001  0.059305                 2  \n",
       "588587   891322004  0.042356                 2  \n",
       "588590   898573003  0.033881                 2  \n",
       "\n",
       "[22379862 rows x 5 columns]"
      ]
     },
     "execution_count": 77,
     "metadata": {},
     "output_type": "execute_result"
    }
   ],
   "source": [
    "ddf.compute()"
   ]
  },
  {
   "cell_type": "markdown",
   "id": "1f572329",
   "metadata": {},
   "source": [
    "https://docs.dask.org/en/stable/"
   ]
  },
  {
   "cell_type": "code",
   "execution_count": null,
   "id": "bbbe7d49",
   "metadata": {},
   "outputs": [],
   "source": []
  }
 ],
 "metadata": {
  "kernelspec": {
   "display_name": "Python 3 (ipykernel)",
   "language": "python",
   "name": "python3"
  },
  "language_info": {
   "codemirror_mode": {
    "name": "ipython",
    "version": 3
   },
   "file_extension": ".py",
   "mimetype": "text/x-python",
   "name": "python",
   "nbconvert_exporter": "python",
   "pygments_lexer": "ipython3",
   "version": "3.10.8"
  }
 },
 "nbformat": 4,
 "nbformat_minor": 5
}
