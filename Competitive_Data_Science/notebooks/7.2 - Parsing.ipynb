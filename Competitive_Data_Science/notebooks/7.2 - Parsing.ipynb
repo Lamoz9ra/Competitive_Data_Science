{
 "cells": [
  {
   "cell_type": "markdown",
   "id": "aca99da3",
   "metadata": {},
   "source": [
    "# [Парсинг внешних данных](https://stepik.org/lesson/866758/)\n",
    "\n",
    "Эта тетрадка поможет разобраться вам в основных моментах парсинга внешних данных на python, познакомиться с полезными функциями и трюками. Вместе с вами мы посмотрим на возможности основных библиотек и закрепим на примерах.\n",
    "\n",
    "### Оглавление ноутбука\n",
    "<img src=\"https://sun1.tele2-kz-almaty.userapi.com/impg/GdOKq9yqtvjM1-lk5DsbsvvO2_XDXQfEIYJgHQ/8h1dFFWKFis.jpg?size=1920x960&quality=96&sign=9e084c8d32884fcbcbbc0a44ef601bea&type=album\" align=\"right\" width=\"528\" height=\"528\" />\n",
    "<br>\n",
    "\n",
    "<p><font size=\"3\" face=\"Arial\" font-size=\"large\">\n",
    "<ul type=\"square\"><li><a href=\"#1\">Анализ URL запроса</a><ul><li><a href=\"#2\">Типы запросов и ответов</a></li></ul></li><li><a href=\"#3\">Парсинг HTML страничек</a><ul><li><a href=\"#4\">lxml с поддержкой CSS селекторов</a></li><li><a href=\"#5\">BeautifulSoup</a></li><li><a href=\"#6\">Proxy</a></li><li><a href=\"#7\">fake_useragent</a></li></ul></li>\n",
    "<li><a href=\"#8\">Практические задачи</a></li></ul></font></p>"
   ]
  },
  {
   "cell_type": "markdown",
   "id": "5f05aa47",
   "metadata": {},
   "source": [
    "##  Анализ URL запроса"
   ]
  },
  {
   "cell_type": "markdown",
   "id": "fd2918ed",
   "metadata": {},
   "source": [
    "<p id=\"1\"></p>\n",
    "Рассмотрим для начала структуру URL адреса, это важно! URL адрес имеет определенную структуру, которая включает:\n",
    "\n",
    "- метод доступа к ресурсу, который также называется сетевым __протоколом__;\n",
    "- __авторизацию доступа__;\n",
    "- __хосты__ – DNS адрес, который указан как IP адрес;\n",
    "- __порт__ – еще одна обязательная деталь, которая включается в сочетание с IP адресом;\n",
    "- __трек__ – определяет информацию о методе получения доступа;\n",
    "- __параметр__ – внутренние данные ресурса о файле.\n",
    "\n",
    "\n",
    "<img src=\"https://sun9-65.userapi.com/impg/VNKZOAYMIumG8qJcm8R1GBUG5iRj1Y1HJ0OeqQ/hEk7cu3dhzI.jpg?size=2143x1126&quality=96&sign=5c59d6c509304ba62f218e21254ad525&type=album\"></img>"
   ]
  },
  {
   "cell_type": "markdown",
   "id": "aeaddd21",
   "metadata": {},
   "source": [
    "Можно разобрать URL на составляющие."
   ]
  },
  {
   "cell_type": "code",
   "execution_count": 1,
   "id": "b0653406",
   "metadata": {},
   "outputs": [
    {
     "data": {
      "text/plain": [
       "ParseResult(scheme='http', netloc='www.example.com:80', path='/path/to/myfile.html', params='', query='key1=value1&key2=value2', fragment='SomewhereInTheDocument')"
      ]
     },
     "execution_count": 1,
     "metadata": {},
     "output_type": "execute_result"
    }
   ],
   "source": [
    "from urllib.parse import urlparse, parse_qsl, parse_qs\n",
    "\n",
    "url = \"http://www.example.com:80/path/to/myfile.html?key1=value1&key2=value2#SomewhereInTheDocument\"\n",
    "url_parsed = urlparse(url)\n",
    "url_parsed"
   ]
  },
  {
   "cell_type": "code",
   "execution_count": 2,
   "id": "82b3653e",
   "metadata": {},
   "outputs": [
    {
     "data": {
      "text/plain": [
       "'/path/to/myfile.html'"
      ]
     },
     "execution_count": 2,
     "metadata": {},
     "output_type": "execute_result"
    }
   ],
   "source": [
    "url_parsed.path"
   ]
  },
  {
   "cell_type": "markdown",
   "id": "0c85b1a1",
   "metadata": {},
   "source": [
    "Парсинг самого запроса внутри URL."
   ]
  },
  {
   "cell_type": "code",
   "execution_count": 3,
   "id": "dbfec6a4",
   "metadata": {},
   "outputs": [
    {
     "data": {
      "text/plain": [
       "{'key1': 'value1', 'key2': 'value2'}"
      ]
     },
     "execution_count": 3,
     "metadata": {},
     "output_type": "execute_result"
    }
   ],
   "source": [
    "dict(parse_qsl(url_parsed.query))"
   ]
  },
  {
   "cell_type": "markdown",
   "id": "a64813c4",
   "metadata": {},
   "source": [
    "### Типы запросов и ответов"
   ]
  },
  {
   "cell_type": "markdown",
   "id": "c7dd5d59",
   "metadata": {},
   "source": [
    "<p id=\"2\"></p>\n",
    "C ссылками разобрались. Что же представляет из себя один из основных протоколов интернета? Тип HTTP-запроса (также называемый HTTP-метод) указывает серверу на то, какое действие мы хотим произвести с ресурсом. Изначально (в начале 90-х) предполагалось, что клиент может хотеть от ресурса только одно — получить его, однако сейчас по протоколу HTTP можно создавать посты, редактировать профиль, удалять сообщения и многое другое. И эти действия сложно объединить термином «получение».\n",
    "\n",
    "Для разграничения действий с ресурсами на уровне HTTP-методов и были придуманы следующие варианты:  <img src=\"https://sun9-23.userapi.com/impg/ieMiTgQNwhi-RnoMCI24CzNn0fC7dMi8HO7QSA/CBgxOLofBqc.jpg?size=509x252&quality=96&sign=08a9cc2b888fd21ebdb9852fb3e30868&type=album\" align=\"right\" padding=100px></img>\n",
    "<br> \n",
    "- GET — получение ресурса \n",
    "- POST — создание ресурса\n",
    "- PUT — обновление ресурса\n",
    "- DELETE — удаление ресурса \n",
    "\n",
    "Обратите внимание на тот факт, что спецификация HTTP не обязывает сервер понимать все методы (которых на самом деле гораздо больше, чем 4) — обязателен только GET, а также не указывает серверу, что он должен делать при получении запроса с тем или иным методом. А это значит, что сервер в ответ на запрос DELETE /index.php HTTP/1.1 не обязан удалять страницу index.php на сервере, так же как на запрос GET /index.php HTTP/1.1 не обязан возвращать вам страницу index.php, он может ее удалять.\n"
   ]
  },
  {
   "cell_type": "markdown",
   "id": "c3c9d368",
   "metadata": {},
   "source": [
    "Рассмотрим что здесь все-таки происходит на практике."
   ]
  },
  {
   "cell_type": "code",
   "execution_count": 35,
   "id": "5c127907",
   "metadata": {},
   "outputs": [],
   "source": [
    "import requests"
   ]
  },
  {
   "cell_type": "markdown",
   "id": "4a6dde9e",
   "metadata": {},
   "source": [
    "Попробуем отправить и записать сообщение на сервисе [transfer.sh](https://www.transfer.sh). Сервис позволяет пользователям хранить, синхронизировать и обмениваться файлами в Интернете с другими пользователями прямо из терминала.\n"
   ]
  },
  {
   "cell_type": "code",
   "execution_count": 43,
   "id": "5b60a68d",
   "metadata": {},
   "outputs": [
    {
     "data": {
      "text/plain": [
       "<Response [200]>"
      ]
     },
     "execution_count": 43,
     "metadata": {},
     "output_type": "execute_result"
    }
   ],
   "source": [
    "r_put = requests.put('https://transfer.sh/arg.txt', data='Bonjour le monde!')\n",
    "r_put"
   ]
  },
  {
   "cell_type": "code",
   "execution_count": 44,
   "id": "9a81f923",
   "metadata": {},
   "outputs": [
    {
     "data": {
      "text/plain": [
       "(True, 200)"
      ]
     },
     "execution_count": 44,
     "metadata": {},
     "output_type": "execute_result"
    }
   ],
   "source": [
    "r_put.ok, r_put.status_code"
   ]
  },
  {
   "cell_type": "code",
   "execution_count": 45,
   "id": "413f8f1b",
   "metadata": {},
   "outputs": [
    {
     "name": "stdout",
     "output_type": "stream",
     "text": [
      "https://transfer.sh/dPN7dG/arg.txt\n"
     ]
    }
   ],
   "source": [
    "print(r_put.text)"
   ]
  },
  {
   "cell_type": "markdown",
   "id": "a801f21f",
   "metadata": {},
   "source": [
    "Видим, что все ок."
   ]
  },
  {
   "cell_type": "markdown",
   "id": "d2a67060",
   "metadata": {},
   "source": [
    "Рассмотрим метод создание запроса POST. Также пытаемся отправить запрос на запись текста. Укажем URL интересующего нас ресурса и дополнительные параметры в виде словаря."
   ]
  },
  {
   "cell_type": "code",
   "execution_count": 48,
   "id": "bd174d0a",
   "metadata": {},
   "outputs": [
    {
     "data": {
      "text/plain": [
       "<Response [200]>"
      ]
     },
     "execution_count": 48,
     "metadata": {},
     "output_type": "execute_result"
    }
   ],
   "source": [
    "page = requests.post('https://controlc.com/index.php?act=submit', data={\n",
    "    'subdomain': '',\n",
    "    'antispam': 1,\n",
    "    'website': '',\n",
    "    'paste_title': 'Заметка',\n",
    "    'input_text': 'Привет!',\n",
    "    'timestamp': 'ba68753935524ba7096650590c86633b',\n",
    "    'paste_password': '',\n",
    "    'code': 0,\n",
    "}, headers={'accept-encoding': 'identity', 'referer': 'https://controlc.com/'})\n",
    "page"
   ]
  },
  {
   "cell_type": "markdown",
   "id": "224bccde",
   "metadata": {},
   "source": [
    "Теперь попробуем передать файл с помощью POST запроса."
   ]
  },
  {
   "cell_type": "code",
   "execution_count": 52,
   "id": "6768360c",
   "metadata": {},
   "outputs": [
    {
     "data": {
      "text/plain": [
       "'http://www.sbg.bio.ic.ac.uk/~suspect/jobmonitor.cgi?jobid=393d065075278d5c'"
      ]
     },
     "execution_count": 52,
     "metadata": {},
     "output_type": "execute_result"
    }
   ],
   "source": [
    "fs = {\"pdb_file\": open('./data/PC.pdf','rb')}\n",
    "d = {\"method\": 'Structure'}\n",
    "req = requests.post(\"http://www.sbg.bio.ic.ac.uk/~suspect/submit.cgi\", files=fs, data=d)\n",
    "req.url"
   ]
  },
  {
   "cell_type": "markdown",
   "id": "2b1b0a1a",
   "metadata": {},
   "source": [
    "## Парсинг HTML страничек"
   ]
  },
  {
   "cell_type": "markdown",
   "id": "01a0ae6a",
   "metadata": {},
   "source": [
    "<p id=\"3\"></p>\n",
    "Для понимания парсинга нужно знать структуру HTML. Как театр начинается с вешалки, так и любой HTML-документ начинается с базовой структуры. Она включает в себя теги, которые есть в любом HTML-файле. Эти теги и служебная информация нужны браузеру для корректного отображения информации.\n",
    "\n",
    "\n",
    "<img src=\"https://dev-gang.ru/static/storage/319901168311547457028755251266243086714.gif\"></img>"
   ]
  },
  {
   "cell_type": "markdown",
   "id": "f991015c",
   "metadata": {},
   "source": [
    "<div class=\"alert alert-info\">\n",
    "    \n",
    "Тег `<html></html>` является основой основ. Именно внутри него располагается вся информация. Благодаря этому тегу браузер понимает, где начинается контент, который необходимо обработать как HTML. Тег `<head></head>` служит для хранения служебной информации. Здесь возможны самые разные сочетания тегов, которые подсказывают браузеру название страницы, описание, ключевые слова и так далее. Такая информация называется метаинформацией. После тега `<head>` в документе указывается парный тег `<body></body>`, который является «телом» всей страницы. Именно здесь размещается вся информация, которая будет выведена на странице.  \n",
    "</div>\n",
    "<img  align=\"right\" width='500px' src=\"https://q-bit.biz/uploads/article/Tegs_1539003896.png\"></img>\n",
    "\n",
    "\n",
    "Внутри `<body></body>` находится вся структура документа состоящая из тегов, атрибутов и материалов. Рассмотрим единичную структуру - тег: \n",
    "<br>Весь текст, заключённый между начальным и конечным тегом, включая <br> и сами эти теги, называется элементом. Сам же текст между тегами — содержанием элемента. Содержание элемента может включать в себя любой текст, в том числе и другие элементы. У тега могут быть свойства, называемые атрибутами, дающие дополнительные возможности форматирования текста. Они записываются в виде сочетания: имя атрибута-значения, причём текстовые значения заключаются в кавычки."
   ]
  },
  {
   "cell_type": "markdown",
   "id": "a48247ab",
   "metadata": {},
   "source": [
    "###  lxml с поддержкой CSS селекторов"
   ]
  },
  {
   "cell_type": "markdown",
   "id": "2feba6e9",
   "metadata": {},
   "source": [
    "<p id=\"4\"></p>\n",
    "Так как html (и xml) имеют древовидную структуру, до любого элемента всегда существет единственный путь, XPath."
   ]
  },
  {
   "cell_type": "code",
   "execution_count": 60,
   "id": "3706f871",
   "metadata": {},
   "outputs": [
    {
     "name": "stdout",
     "output_type": "stream",
     "text": [
      "Requirement already satisfied: cssselect in /Users/flaymax/miniforge3/lib/python3.9/site-packages (1.2.0)\n"
     ]
    }
   ],
   "source": [
    "!pip install cssselect"
   ]
  },
  {
   "cell_type": "markdown",
   "id": "6faa86e2",
   "metadata": {},
   "source": [
    "Попробуем поиграться со страницей фильма \"Стражи Галактики\". Допустим у нас соревнование по предсказанию жанра фильма и было принято решение о парсинге дополнительных данных. Приступим!"
   ]
  },
  {
   "cell_type": "code",
   "execution_count": 61,
   "id": "e42d28d6",
   "metadata": {},
   "outputs": [],
   "source": [
    "from lxml import etree, html as lhtml"
   ]
  },
  {
   "cell_type": "code",
   "execution_count": 65,
   "id": "7cd84d49",
   "metadata": {},
   "outputs": [],
   "source": [
    "tree = lhtml.fromstring(open('data/689066_2.html', 'r', encoding='utf-8').read())"
   ]
  },
  {
   "cell_type": "markdown",
   "id": "7140d61b",
   "metadata": {},
   "source": [
    "С помощью `xpath` узнаем информацию о фильме. Сначала указывается интересующий нас тег, допустим `//div`, а затем его атрибут. Настоятельно рекомендуем на этих пунктах открыть исходный код странички и самостоятельно убедиться что откуда берется. Это не сложно :)"
   ]
  },
  {
   "cell_type": "code",
   "execution_count": 66,
   "id": "96810d8c",
   "metadata": {},
   "outputs": [
    {
     "data": {
      "text/plain": [
       "{'title': 'Стражи Галактики',\n",
       " 'title-original': 'Guardians of the Galaxy',\n",
       " 'rating': 7.763,\n",
       " 'desription': 'Отважному путешественнику Питеру Квиллу попадает в руки таинственный артефакт, принадлежащий могущественному и безжалостному злодею Ронану, строящему коварные планы по захвату Вселенной. Питер оказывается в центре межгалактической охоты, где жертва — он сам.\\nЕдинственный способ спасти свою жизнь — объединиться с четверкой нелюдимых изгоев: воинственным енотом по кличке Ракета, человекоподобным деревом Грутом, смертельно опасной Гаморой и одержимым жаждой мести Драксом, также известным как Разрушитель. Когда Квилл понимает, какой силой обладает украденный артефакт и какую опасность он представляет для вселенной, одиночка пойдет на все, чтобы сплотить случайных союзников для решающей битвы за судьбу галактики.'}"
      ]
     },
     "execution_count": 66,
     "metadata": {},
     "output_type": "execute_result"
    }
   ],
   "source": [
    "film_info = {\n",
    "    'title': tree.xpath('//h1[@itemprop=\"name\"]/span/text()')[0],\n",
    "    'title-original': tree.xpath('//span[starts-with(@class, \"styles_originalTitle__\")]')[0].text,\n",
    "    'rating': float(tree.cssselect('a.film-rating-value')[0].text),   # поддержка CSS-селекторов\n",
    "    'desription': '\\n'.join(tree.xpath('//div[starts-with(@class, \"styles_synopsisSection\")]//text()'))\n",
    "}\n",
    "\n",
    "film_info"
   ]
  },
  {
   "cell_type": "markdown",
   "id": "f2e0c512",
   "metadata": {},
   "source": [
    "Далее найдем ссылку на просмотр. Ссылочки практически всегда находятся в тегах `<a href=\"your_link\"></a>`."
   ]
  },
  {
   "cell_type": "code",
   "execution_count": 67,
   "id": "70df61ac",
   "metadata": {},
   "outputs": [
    {
     "data": {
      "text/plain": [
       "{'title': 'Стражи Галактики',\n",
       " 'title-original': 'Guardians of the Galaxy',\n",
       " 'rating': 7.763,\n",
       " 'desription': 'Отважному путешественнику Питеру Квиллу попадает в руки таинственный артефакт, принадлежащий могущественному и безжалостному злодею Ронану, строящему коварные планы по захвату Вселенной. Питер оказывается в центре межгалактической охоты, где жертва — он сам.\\nЕдинственный способ спасти свою жизнь — объединиться с четверкой нелюдимых изгоев: воинственным енотом по кличке Ракета, человекоподобным деревом Грутом, смертельно опасной Гаморой и одержимым жаждой мести Драксом, также известным как Разрушитель. Когда Квилл понимает, какой силой обладает украденный артефакт и какую опасность он представляет для вселенной, одиночка пойдет на все, чтобы сплотить случайных союзников для решающей битвы за судьбу галактики.',\n",
       " 'watch': ['https://hd.kinopoisk.ru/film/4a297ba39cb704fa9a81855f76ab1d73?from=button_online&watch=']}"
      ]
     },
     "execution_count": 67,
     "metadata": {},
     "output_type": "execute_result"
    }
   ],
   "source": [
    "watch = tree.xpath('//a[contains(@class, \"kinopoisk-watch-online-button\")]/attribute::href')\n",
    "film_info['watch'] = watch\n",
    "film_info"
   ]
  },
  {
   "cell_type": "markdown",
   "id": "970c49be",
   "metadata": {},
   "source": [
    "Найдем картинку аналогичным образом. Тег `<img>`."
   ]
  },
  {
   "cell_type": "code",
   "execution_count": 16,
   "id": "26a14a51",
   "metadata": {},
   "outputs": [
    {
     "data": {
      "text/plain": [
       "['//avatars.mds.yandex.net/get-kinopoisk-image/1773646/2e6ab20b-7cf1-49e7-b465-bd5a71c13fa3/300x450 1x, //avatars.mds.yandex.net/get-kinopoisk-image/1773646/2e6ab20b-7cf1-49e7-b465-bd5a71c13fa3/600x900 2x']"
      ]
     },
     "execution_count": 16,
     "metadata": {},
     "output_type": "execute_result"
    }
   ],
   "source": [
    "image = tree.xpath('//img[contains(@class, \"film-poster\")]//attribute::srcset')\n",
    "image"
   ]
  },
  {
   "cell_type": "markdown",
   "id": "9fa405e9",
   "metadata": {},
   "source": [
    "###  BeautifulSoup"
   ]
  },
  {
   "cell_type": "markdown",
   "id": "7dee27a2",
   "metadata": {},
   "source": [
    "<p id=\"5\"></p>\n",
    "С простым парсингом разобрались, перейдем к более интересной и обширной библиотеке <a href = \"https://www.crummy.com/software/BeautifulSoup/bs4/doc/\">Beautifulsoup</a>. Здесь есть множество полезных алгоритмов упрощающих вашу работу, опимизирующих поиск множества информации и т.д. Будем работать с той же страничкой для удобства. Напоминаем, что в ходе этой практики не лишним будет открыть исходный код странички и самостоятельно убедиться что откуда берется, это очень поможет быстро разобраться.\n",
    "\n",
    "<img src=\"https://sun9-58.userapi.com/impg/o_qPHMIWsPUG9VLR3vbjjs6fap-iX89MUHkdWw/oOMz3ZM20QY.jpg?size=751x335&quality=96&sign=5358d071a6a30677ff578a72c2a4fc2e&type=album\"></img>"
   ]
  },
  {
   "cell_type": "code",
   "execution_count": 17,
   "id": "a0953d13",
   "metadata": {},
   "outputs": [],
   "source": [
    "from bs4 import BeautifulSoup\n",
    "import pandas as pd"
   ]
  },
  {
   "cell_type": "code",
   "execution_count": 18,
   "id": "05ac38b5",
   "metadata": {},
   "outputs": [],
   "source": [
    "soup = BeautifulSoup(open('data/689066_2.html', 'rb').read(), 'lxml')"
   ]
  },
  {
   "cell_type": "code",
   "execution_count": 19,
   "id": "bd96a60f",
   "metadata": {},
   "outputs": [],
   "source": [
    "from operator import attrgetter, itemgetter"
   ]
  },
  {
   "cell_type": "markdown",
   "id": "7198403f",
   "metadata": {},
   "source": [
    "Берем основную информацию со странички. Запустив сессию `BeautifulSoup`, найдем теги, здесь это можно гораздо проще и приятнее для глаз - `.find(\"tag\", attribute=\"value\")`. Для того чтобы найти все встречающиеся варианты используем `.find_all(\"tag\")`"
   ]
  },
  {
   "cell_type": "code",
   "execution_count": 20,
   "id": "3cfd7209",
   "metadata": {},
   "outputs": [
    {
     "data": {
      "text/plain": [
       "{'title': 'Стражи Галактики',\n",
       " 'title-original': 'Guardians of the Galaxy',\n",
       " 'rating': 7.763,\n",
       " 'description': 'Отважному путешественнику Питеру Квиллу попадает в руки таинственный артефакт, принадлежащий могущественному и безжалостному злодею Ронану, строящему коварные планы по захвату Вселенной. Питер оказывается в центре межгалактической охоты, где жертва — он сам.\\nЕдинственный способ спасти свою жизнь — объединиться с четверкой нелюдимых изгоев: воинственным енотом по кличке Ракета, человекоподобным деревом Грутом, смертельно опасной Гаморой и одержимым жаждой мести Драксом, также известным как Разрушитель. Когда Квилл понимает, какой силой обладает украденный артефакт и какую опасность он представляет для вселенной, одиночка пойдет на все, чтобы сплотить случайных союзников для решающей битвы за судьбу галактики.'}"
      ]
     },
     "execution_count": 20,
     "metadata": {},
     "output_type": "execute_result"
    }
   ],
   "source": [
    "desc = soup.find('div', itemprop='description')\n",
    "desc = soup.find('div', class_=lambda s: s and s.startswith(\"styles_synopsisSection\")).find_all('p')\n",
    "\n",
    "film_info = {\n",
    "    'title': soup.find('h1', itemprop='name').find('span').text,\n",
    "    'title-original': soup.find('span', class_=lambda s: s and s.startswith('styles_originalTitle__')).text,\n",
    "    'rating': float(soup.select_one('a.film-rating-value').text), \n",
    "    'description': '\\n'.join(map(attrgetter('text'), desc))\n",
    "}\n",
    "film_info"
   ]
  },
  {
   "cell_type": "markdown",
   "id": "ba78b6a7",
   "metadata": {},
   "source": [
    "Скачиваем данные, чтобы сделать таблицу."
   ]
  },
  {
   "cell_type": "code",
   "execution_count": 21,
   "id": "048742d5",
   "metadata": {},
   "outputs": [
    {
     "data": {
      "text/plain": [
       "23"
      ]
     },
     "execution_count": 21,
     "metadata": {},
     "output_type": "execute_result"
    }
   ],
   "source": [
    "header = soup.find('h3', class_=\"film-page-section-title\")\n",
    "table = header.next_sibling\n",
    "rows = table.find_all('div', recursive=False)\n",
    "\n",
    "len(rows)"
   ]
  },
  {
   "cell_type": "markdown",
   "id": "615f5171",
   "metadata": {},
   "source": [
    "Так можно наглядно убедиться что у нас с данными и начать с ними, если нужно, необходмую работу."
   ]
  },
  {
   "cell_type": "code",
   "execution_count": 22,
   "id": "101fb058",
   "metadata": {},
   "outputs": [
    {
     "data": {
      "text/html": [
       "<div>\n",
       "<style scoped>\n",
       "    .dataframe tbody tr th:only-of-type {\n",
       "        vertical-align: middle;\n",
       "    }\n",
       "\n",
       "    .dataframe tbody tr th {\n",
       "        vertical-align: top;\n",
       "    }\n",
       "\n",
       "    .dataframe thead th {\n",
       "        text-align: right;\n",
       "    }\n",
       "</style>\n",
       "<table border=\"1\" class=\"dataframe\">\n",
       "  <thead>\n",
       "    <tr style=\"text-align: right;\">\n",
       "      <th></th>\n",
       "      <th>0</th>\n",
       "      <th>1</th>\n",
       "      <th>2</th>\n",
       "    </tr>\n",
       "  </thead>\n",
       "  <tbody>\n",
       "    <tr>\n",
       "      <th>0</th>\n",
       "      <td>Год производства</td>\n",
       "      <td>2014</td>\n",
       "      <td>None</td>\n",
       "    </tr>\n",
       "    <tr>\n",
       "      <th>1</th>\n",
       "      <td>Страна</td>\n",
       "      <td>США</td>\n",
       "      <td>None</td>\n",
       "    </tr>\n",
       "    <tr>\n",
       "      <th>2</th>\n",
       "      <td>Жанр</td>\n",
       "      <td>фантастика, боевик, приключения, комедияслова</td>\n",
       "      <td>фантастика, боевик, приключения, комедия</td>\n",
       "    </tr>\n",
       "    <tr>\n",
       "      <th>3</th>\n",
       "      <td>Слоган</td>\n",
       "      <td>«Мстители спасают лишь Землю бренную, а эти ре...</td>\n",
       "      <td>«Мстители спасают лишь Землю бренную, а эти ре...</td>\n",
       "    </tr>\n",
       "    <tr>\n",
       "      <th>4</th>\n",
       "      <td>Режиссер</td>\n",
       "      <td>Джеймс Ганн</td>\n",
       "      <td>None</td>\n",
       "    </tr>\n",
       "    <tr>\n",
       "      <th>5</th>\n",
       "      <td>Сценарий</td>\n",
       "      <td>Джеймс Ганн, Николь Перлман, Дэн Абнетт, ...</td>\n",
       "      <td>None</td>\n",
       "    </tr>\n",
       "    <tr>\n",
       "      <th>6</th>\n",
       "      <td>Продюсер</td>\n",
       "      <td>Кевин Файги, Виктория Алонсо, Джэми Кристофер,...</td>\n",
       "      <td>None</td>\n",
       "    </tr>\n",
       "    <tr>\n",
       "      <th>7</th>\n",
       "      <td>Оператор</td>\n",
       "      <td>Бен Дэвис</td>\n",
       "      <td>None</td>\n",
       "    </tr>\n",
       "    <tr>\n",
       "      <th>8</th>\n",
       "      <td>Композитор</td>\n",
       "      <td>Тайлер Бейтс</td>\n",
       "      <td>None</td>\n",
       "    </tr>\n",
       "    <tr>\n",
       "      <th>9</th>\n",
       "      <td>Художник</td>\n",
       "      <td>Чарльз Вуд, Рави Бансал, Мэттью Бродерик, ...</td>\n",
       "      <td>None</td>\n",
       "    </tr>\n",
       "    <tr>\n",
       "      <th>10</th>\n",
       "      <td>Монтаж</td>\n",
       "      <td>Фред Раскин, Хьюз Уинборн, Крэйг Вуд</td>\n",
       "      <td>None</td>\n",
       "    </tr>\n",
       "    <tr>\n",
       "      <th>11</th>\n",
       "      <td>Бюджет</td>\n",
       "      <td>$170 000 000</td>\n",
       "      <td>None</td>\n",
       "    </tr>\n",
       "    <tr>\n",
       "      <th>12</th>\n",
       "      <td>Сборы в США</td>\n",
       "      <td>$333 176 600</td>\n",
       "      <td>None</td>\n",
       "    </tr>\n",
       "    <tr>\n",
       "      <th>13</th>\n",
       "      <td>Сборы в мире</td>\n",
       "      <td>+ $439 600 000 = $772 776 600сборы</td>\n",
       "      <td>None</td>\n",
       "    </tr>\n",
       "    <tr>\n",
       "      <th>14</th>\n",
       "      <td>Зрители</td>\n",
       "      <td>834 тыс , 311.5 тыс , ...</td>\n",
       "      <td>None</td>\n",
       "    </tr>\n",
       "    <tr>\n",
       "      <th>15</th>\n",
       "      <td>Сборы в России</td>\n",
       "      <td>$37 881 775</td>\n",
       "      <td>None</td>\n",
       "    </tr>\n",
       "    <tr>\n",
       "      <th>16</th>\n",
       "      <td>Премьера в Росcии</td>\n",
       "      <td>31 июля 2014, «WDSSPR»IMAX3D</td>\n",
       "      <td>None</td>\n",
       "    </tr>\n",
       "    <tr>\n",
       "      <th>17</th>\n",
       "      <td>Премьера в мире</td>\n",
       "      <td>21 июля 2014, ...</td>\n",
       "      <td>None</td>\n",
       "    </tr>\n",
       "    <tr>\n",
       "      <th>18</th>\n",
       "      <td>Релиз на DVD</td>\n",
       "      <td>2 декабря 2014, «Уолт Дисней Компани СНГ»</td>\n",
       "      <td>2 декабря 2014, «Уолт Дисней Компани СНГ»</td>\n",
       "    </tr>\n",
       "    <tr>\n",
       "      <th>19</th>\n",
       "      <td>Релиз на Blu-ray</td>\n",
       "      <td>2 декабря 2014, «Уолт Дисней Компани СНГ»</td>\n",
       "      <td>2 декабря 2014, «Уолт Дисней Компани СНГ»</td>\n",
       "    </tr>\n",
       "    <tr>\n",
       "      <th>20</th>\n",
       "      <td>Возраст</td>\n",
       "      <td>12+</td>\n",
       "      <td>None</td>\n",
       "    </tr>\n",
       "    <tr>\n",
       "      <th>21</th>\n",
       "      <td>Рейтинг MPAA</td>\n",
       "      <td>PG-13детям до 13 лет просмотр не желателен</td>\n",
       "      <td>None</td>\n",
       "    </tr>\n",
       "    <tr>\n",
       "      <th>22</th>\n",
       "      <td>Время</td>\n",
       "      <td>121 мин. / 02:01</td>\n",
       "      <td>121 мин. / 02:01</td>\n",
       "    </tr>\n",
       "  </tbody>\n",
       "</table>\n",
       "</div>"
      ],
      "text/plain": [
       "                    0                                                  1  \\\n",
       "0    Год производства                                               2014   \n",
       "1              Страна                                                США   \n",
       "2                Жанр      фантастика, боевик, приключения, комедияслова   \n",
       "3              Слоган  «Мстители спасают лишь Землю бренную, а эти ре...   \n",
       "4            Режиссер                                        Джеймс Ганн   \n",
       "5            Сценарий       Джеймс Ганн, Николь Перлман, Дэн Абнетт, ...   \n",
       "6            Продюсер  Кевин Файги, Виктория Алонсо, Джэми Кристофер,...   \n",
       "7            Оператор                                          Бен Дэвис   \n",
       "8          Композитор                                       Тайлер Бейтс   \n",
       "9            Художник      Чарльз Вуд, Рави Бансал, Мэттью Бродерик, ...   \n",
       "10             Монтаж               Фред Раскин, Хьюз Уинборн, Крэйг Вуд   \n",
       "11             Бюджет                                       $170 000 000   \n",
       "12        Сборы в США                                       $333 176 600   \n",
       "13       Сборы в мире                 + $439 600 000 = $772 776 600сборы   \n",
       "14            Зрители                          834 тыс , 311.5 тыс , ...   \n",
       "15     Сборы в России                                        $37 881 775   \n",
       "16  Премьера в Росcии                       31 июля 2014, «WDSSPR»IMAX3D   \n",
       "17    Премьера в мире                                  21 июля 2014, ...   \n",
       "18       Релиз на DVD          2 декабря 2014, «Уолт Дисней Компани СНГ»   \n",
       "19   Релиз на Blu-ray          2 декабря 2014, «Уолт Дисней Компани СНГ»   \n",
       "20            Возраст                                                12+   \n",
       "21       Рейтинг MPAA         PG-13детям до 13 лет просмотр не желателен   \n",
       "22              Время                                   121 мин. / 02:01   \n",
       "\n",
       "                                                    2  \n",
       "0                                                None  \n",
       "1                                                None  \n",
       "2            фантастика, боевик, приключения, комедия  \n",
       "3   «Мстители спасают лишь Землю бренную, а эти ре...  \n",
       "4                                                None  \n",
       "5                                                None  \n",
       "6                                                None  \n",
       "7                                                None  \n",
       "8                                                None  \n",
       "9                                                None  \n",
       "10                                               None  \n",
       "11                                               None  \n",
       "12                                               None  \n",
       "13                                               None  \n",
       "14                                               None  \n",
       "15                                               None  \n",
       "16                                               None  \n",
       "17                                               None  \n",
       "18          2 декабря 2014, «Уолт Дисней Компани СНГ»  \n",
       "19          2 декабря 2014, «Уолт Дисней Компани СНГ»  \n",
       "20                                               None  \n",
       "21                                               None  \n",
       "22                                   121 мин. / 02:01  "
      ]
     },
     "execution_count": 22,
     "metadata": {},
     "output_type": "execute_result"
    }
   ],
   "source": [
    "data = []\n",
    "\n",
    "for row in rows:\n",
    "    cols = map(lambda x: x.text, row.find_all('div'))\n",
    "    data.append(cols)\n",
    "\n",
    "data = pd.DataFrame(data)\n",
    "data"
   ]
  },
  {
   "cell_type": "markdown",
   "id": "3089580d",
   "metadata": {},
   "source": [
    "Найдем картинки. Как было сказано выше, в данном случае использовать удобнее `.find_all(\"tag\")`."
   ]
  },
  {
   "cell_type": "code",
   "execution_count": 23,
   "id": "854215b2",
   "metadata": {},
   "outputs": [
    {
     "data": {
      "text/plain": [
       "['https://st.kp.yandex.net/images/kadr/sm_2802088.jpg',\n",
       " 'https://st.kp.yandex.net/images/kadr/sm_2802087.jpg',\n",
       " 'https://st.kp.yandex.net/images/kadr/sm_2802086.jpg',\n",
       " 'https://st.kp.yandex.net/images/kadr/sm_2802085.jpg',\n",
       " 'https://st.kp.yandex.net/images/kadr/sm_2802084.jpg',\n",
       " 'https://st.kp.yandex.net/images/kadr/sm_2802083.jpg',\n",
       " 'https://st.kp.yandex.net/images/kadr/sm_2802082.jpg',\n",
       " 'https://st.kp.yandex.net/images/kadr/sm_2802081.jpg',\n",
       " 'https://st.kp.yandex.net/images/kadr/sm_2751304.jpg',\n",
       " 'https://st.kp.yandex.net/images/kadr/sm_2485201.jpg']"
      ]
     },
     "execution_count": 23,
     "metadata": {},
     "output_type": "execute_result"
    }
   ],
   "source": [
    "soup = BeautifulSoup(open('data/689066_stills_2.html', 'rb').read(), 'html.parser')\n",
    "list(map(lambda s: s.attrs['src'], soup.find('table', class_='fotos').find_all(\"img\")))[:10]"
   ]
  },
  {
   "cell_type": "markdown",
   "id": "e4a9aeda",
   "metadata": {},
   "source": [
    "##  Proxy"
   ]
  },
  {
   "cell_type": "markdown",
   "id": "9cf3f229",
   "metadata": {},
   "source": [
    "<p id=\"6\">Прокси-сервер (сервер-посредник) — промежуточный сервер (комплекс программ) в компьютерных сетях, выполняющий роль посредника между пользователем и целевым сервером (при этом о посредничестве могут как знать, так и не знать обе стороны), позволяющий клиентам как выполнять косвенные запросы (принимая и передавая их через прокси-сервер) к другим сетевым службам, так и получать ответы. Посмотрим на свои параметры.</p>"
   ]
  },
  {
   "cell_type": "code",
   "execution_count": 69,
   "id": "d410ccad",
   "metadata": {},
   "outputs": [],
   "source": [
    "def browser_stats_from_yandex(**params):\n",
    "    page = requests.get('https://yandex.ru/internet/', **params)\n",
    "    soup = BeautifulSoup(page.content, 'html.parser')\n",
    "\n",
    "    params = {}\n",
    "    for e in soup.find('ul', class_='general-info').find_all('li'):\n",
    "        key = e.find('h3').text\n",
    "        val = e.find('div', {'class': None})\n",
    "        val = val.text if val else '–'\n",
    "        params[key] = val\n",
    "    return params"
   ]
  },
  {
   "cell_type": "markdown",
   "id": "d1f71881",
   "metadata": {},
   "source": [
    "Здесь можем посмотреть на свои исходные параметры."
   ]
  },
  {
   "cell_type": "code",
   "execution_count": 70,
   "id": "cb955e93",
   "metadata": {},
   "outputs": [
    {
     "data": {
      "text/plain": [
       "{'IPv4-адрес': '85.117.100.138',\n",
       " 'IPv6-адрес': '–',\n",
       " 'Браузер': 'Неизвестный браузер',\n",
       " 'Разрешение экрана': '–',\n",
       " 'Регион': '–',\n",
       " 'JavaScript отключен': 'В вашем браузере отсутствует или выключена поддержка JavaScript.'}"
      ]
     },
     "execution_count": 70,
     "metadata": {},
     "output_type": "execute_result"
    }
   ],
   "source": [
    "browser_stats_from_yandex()"
   ]
  },
  {
   "cell_type": "markdown",
   "id": "46e57008",
   "metadata": {},
   "source": [
    "А теперь попробуем натянуть прокси."
   ]
  },
  {
   "cell_type": "code",
   "execution_count": 71,
   "id": "2f19458f",
   "metadata": {},
   "outputs": [
    {
     "data": {
      "text/plain": [
       "{'IPv4-адрес': '85.117.100.138',\n",
       " 'IPv6-адрес': '–',\n",
       " 'Браузер': 'Неизвестный браузер',\n",
       " 'Разрешение экрана': '–',\n",
       " 'Регион': '–',\n",
       " 'JavaScript отключен': 'В вашем браузере отсутствует или выключена поддержка JavaScript.'}"
      ]
     },
     "execution_count": 71,
     "metadata": {},
     "output_type": "execute_result"
    }
   ],
   "source": [
    "proxies = { 'https://': '85.25.91.156:5000', }\n",
    "\n",
    "browser_stats_from_yandex(proxies=proxies)"
   ]
  },
  {
   "cell_type": "markdown",
   "id": "3c62aabb",
   "metadata": {},
   "source": [
    "Также можно менять Браузер и другие параметры."
   ]
  },
  {
   "cell_type": "code",
   "execution_count": 72,
   "id": "729db87f",
   "metadata": {},
   "outputs": [
    {
     "data": {
      "text/plain": [
       "{'IPv4-адрес': '85.117.100.138',\n",
       " 'IPv6-адрес': '–',\n",
       " 'Браузер': 'Twitterbot',\n",
       " 'Разрешение экрана': '–',\n",
       " 'Регион': '–',\n",
       " 'JavaScript отключен': 'В вашем браузере отсутствует или выключена поддержка JavaScript.'}"
      ]
     },
     "execution_count": 72,
     "metadata": {},
     "output_type": "execute_result"
    }
   ],
   "source": [
    "browser_stats_from_yandex(proxies=proxies, headers={'User-Agent': 'TwitterBot'})"
   ]
  },
  {
   "cell_type": "markdown",
   "id": "5bbadbbe",
   "metadata": {},
   "source": [
    "# БОНУС"
   ]
  },
  {
   "cell_type": "markdown",
   "id": "942c21d9",
   "metadata": {},
   "source": [
    "<p id=\"7\">Пакет fake_useragent позволяет создавать виртуальную сессию любого браузера и параметров. </p>"
   ]
  },
  {
   "cell_type": "code",
   "execution_count": 30,
   "id": "2d9d30b8",
   "metadata": {},
   "outputs": [
    {
     "name": "stdout",
     "output_type": "stream",
     "text": [
      "Collecting fake_useragent\n",
      "  Downloading fake_useragent-1.1.1-py3-none-any.whl (50 kB)\n",
      "     |████████████████████████████████| 50 kB 253 kB/s            \n",
      "\u001b[?25hCollecting importlib-resources>=5.0\n",
      "  Downloading importlib_resources-5.10.2-py3-none-any.whl (34 kB)\n",
      "Requirement already satisfied: zipp>=3.1.0 in /Users/flaymax/miniforge3/lib/python3.9/site-packages (from importlib-resources>=5.0->fake_useragent) (3.6.0)\n",
      "Installing collected packages: importlib-resources, fake-useragent\n",
      "Successfully installed fake-useragent-1.1.1 importlib-resources-5.10.2\n",
      "Note: you may need to restart the kernel to use updated packages.\n"
     ]
    }
   ],
   "source": [
    "!pip install fake_useragent"
   ]
  },
  {
   "cell_type": "markdown",
   "id": "6cfb09b5",
   "metadata": {},
   "source": [
    "Если вы хотите указать свой желаемый браузер, вы можете сделать это с помощью аргумента браузера (по умолчанию: `[\"chrome\", \"edge\", \"internet explorer\", \"firefox\", \"safari\", \"opera\"]`)."
   ]
  },
  {
   "cell_type": "code",
   "execution_count": 31,
   "id": "e06039de",
   "metadata": {},
   "outputs": [
    {
     "name": "stdout",
     "output_type": "stream",
     "text": [
      "Mozilla/5.0 (X11; U; Linux x86_64; en-US) AppleWebKit/532.0 (KHTML, like Gecko) Chrome/4.0.212.0 Safari/532.0\n",
      "{'User-Agent': 'Mozilla/5.0 (Windows; U; Windows NT 5.2; en-US) AppleWebKit/531.3 (KHTML, like Gecko) Chrome/3.0.193.2 Safari/531.3'}\n",
      "<Response [200]>\n"
     ]
    }
   ],
   "source": [
    "from fake_useragent import UserAgent\n",
    "   \n",
    "\n",
    "ua = UserAgent()\n",
    "print(ua.chrome)\n",
    "header = {'User-Agent':str(ua.chrome)}\n",
    "print(header)\n",
    "url = \"https://www.kaggle.com/\"\n",
    "htmlContent = requests.get(url, headers=header)\n",
    "print(htmlContent)"
   ]
  },
  {
   "cell_type": "markdown",
   "id": "fbb5bf00",
   "metadata": {},
   "source": [
    "Всю информацию об этой интересной библиотеке можно найти [здесь](https://github.com/fake-useragent/fake-useragent)."
   ]
  },
  {
   "cell_type": "markdown",
   "id": "78f53c40",
   "metadata": {},
   "source": [
    "<p id=\"8\"></p>\n",
    "\n",
    "# Практические задачи"
   ]
  },
  {
   "cell_type": "markdown",
   "id": "dd3e0e7e",
   "metadata": {},
   "source": [
    "## Задача 1.\n",
    "\n",
    "Напишем свой небольшой парсер. Попробуем спарсить информацию с довольно простого сайта керамических изделий. Допустим у нас соревнование в ритейле и нам зачем-то понадобились данные по керамике. Будем использовать рассмотренную библиотеку BeautifulSoup. Ссылка на исходную страницу для создания сессии  - [здесь](https://www.borkeramika.ru/posuda-copy/). Задача состоит в том, чтобы найти все элементы с категориями и занести ссылки на них в массив `categories`, далее итеративно для каждой категории создаем сессию BeautifulSoup, и находим все ссылки на товары, делаем общий массив для всех товаров всех категорий `result`, его возвращаем. \n",
    "\n",
    "<img src=\"https://sun9-76.userapi.com/impg/n7iM4Y3j7C0cfJE661O71_2ntuItRcXNbvCYEA/MMkAB2qUet0.jpg?size=2066x1438&quality=96&sign=fdb120833b8b90d14e71e5fd1db1d4e7&type=album\"></img>\n",
    "\n",
    "_Замечание_: Для множественного поиска не забываем использовать `.find_all(\"your_tag\")`, не забываем проверить дублирование ссылок из разных категорий.\n",
    "\n",
    "\n",
    "__На вход подается:__\n",
    "\n",
    "[Ссылка на интересующий нас сайт](https://www.borkeramika.ru/posuda-copy/)\n",
    "\n",
    "__На выходе принимается:__\n",
    "\n",
    "Список `result` со ссылками на все товары сайта.\n",
    "\n"
   ]
  },
  {
   "cell_type": "code",
   "execution_count": 74,
   "id": "13a90af4",
   "metadata": {},
   "outputs": [],
   "source": [
    "#your code"
   ]
  },
  {
   "cell_type": "markdown",
   "id": "ec54d626",
   "metadata": {},
   "source": [
    "## Задача 2.\n",
    "\n",
    "Используем результаты первой задачи. Попробуем сделать датасет товаров с интересующими нас фичами. Итеративно обходим все товары по добытым ссылкам из первой задачи. На странице товара находим нужные нам элементы:\n",
    "\n",
    "1. Название товара\n",
    "2. Цена\n",
    "3. Артикул\n",
    "4. Описание\n",
    "5. Таблицу характеристик\n",
    "\n",
    "Заходя на страницу товара складываем данные в словарь `item_dict` с ключами `\"name\", \"price\", \"vendor_code\", \"description\", \"properties_table\"`. По ключу `\"properties_table\"` кладем все имеющиеся характеристики в словарь, где ключ - название характеристики, значение - ее величина/описание. Далее требуется занести все словари в общий список `all_items`.\n",
    "\n",
    "<img src=\"https://sun9-37.userapi.com/impg/ScDyisOPZD7-IB44oD1zhV5s0FWdZ75xxZSn0w/CuBBGkBqexQ.jpg?size=2440x1370&quality=96&sign=ed7ccec87bf5ff83101b309764c3736a&type=album\"></img>\n",
    "\n",
    "_Замечание:_ Зачастую товаров бывают разные, не везде есть те или иные характеристики. Важно!! Если нет пункта 1 - Название товара или пункта 2 - Цена, то такие товары нас не интересуют, их не заносим. В таких случаях либо отстуствует текст тега, либо BeautifulSoup выдаст `AttributeError`. Стоит помнить о конструкции `try-except`.\n",
    "\n",
    "__На вход подается:__\n",
    "\n",
    "Список `result` со ссылками на все товары сайта из первой задачи.\n",
    "\n",
    "\n",
    "__На выходе принимается:__\n",
    "\n",
    "Список `all_items` со словарями данных о товарах."
   ]
  },
  {
   "cell_type": "code",
   "execution_count": 75,
   "id": "75532ea7",
   "metadata": {},
   "outputs": [],
   "source": [
    "#your code"
   ]
  }
 ],
 "metadata": {
  "kernelspec": {
   "display_name": "Python 3 (ipykernel)",
   "language": "python",
   "name": "python3"
  },
  "language_info": {
   "codemirror_mode": {
    "name": "ipython",
    "version": 3
   },
   "file_extension": ".py",
   "mimetype": "text/x-python",
   "name": "python",
   "nbconvert_exporter": "python",
   "pygments_lexer": "ipython3",
   "version": "3.9.15"
  }
 },
 "nbformat": 4,
 "nbformat_minor": 5
}
