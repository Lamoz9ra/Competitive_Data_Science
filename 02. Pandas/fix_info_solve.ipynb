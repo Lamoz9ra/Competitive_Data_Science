{
 "cells": [
  {
   "cell_type": "code",
   "execution_count": 1,
   "id": "26dd83b5-6f22-4675-ac33-bb7a0b039220",
   "metadata": {},
   "outputs": [],
   "source": [
    "import pandas as pd "
   ]
  },
  {
   "cell_type": "code",
   "execution_count": 2,
   "id": "d330cdcf-8e44-433f-9454-d9db9454728b",
   "metadata": {},
   "outputs": [],
   "source": [
    "df = pd.read_csv('https://raw.githubusercontent.com/a-milenkin/Competitive_Data_Science/main/data/fix_info.csv')"
   ]
  },
  {
   "cell_type": "code",
   "execution_count": 3,
   "id": "47ed9585-634a-4a4e-b4ce-27a421f7528f",
   "metadata": {},
   "outputs": [
    {
     "data": {
      "text/html": [
       "<div>\n",
       "<style scoped>\n",
       "    .dataframe tbody tr th:only-of-type {\n",
       "        vertical-align: middle;\n",
       "    }\n",
       "\n",
       "    .dataframe tbody tr th {\n",
       "        vertical-align: top;\n",
       "    }\n",
       "\n",
       "    .dataframe thead th {\n",
       "        text-align: right;\n",
       "    }\n",
       "</style>\n",
       "<table border=\"1\" class=\"dataframe\">\n",
       "  <thead>\n",
       "    <tr style=\"text-align: right;\">\n",
       "      <th></th>\n",
       "      <th>car_id</th>\n",
       "      <th>worker_id</th>\n",
       "      <th>fix_date</th>\n",
       "      <th>work_type</th>\n",
       "      <th>destroy_degree</th>\n",
       "      <th>work_duration</th>\n",
       "    </tr>\n",
       "  </thead>\n",
       "  <tbody>\n",
       "    <tr>\n",
       "      <th>0</th>\n",
       "      <td>P17494612l</td>\n",
       "      <td>RJ</td>\n",
       "      <td>2020-6-20 2:14</td>\n",
       "      <td>reparking</td>\n",
       "      <td>8.0</td>\n",
       "      <td>49</td>\n",
       "    </tr>\n",
       "    <tr>\n",
       "      <th>1</th>\n",
       "      <td>N-1530212S</td>\n",
       "      <td>LM</td>\n",
       "      <td>2020-2-9 20:25</td>\n",
       "      <td>repair</td>\n",
       "      <td>10.0</td>\n",
       "      <td>48</td>\n",
       "    </tr>\n",
       "    <tr>\n",
       "      <th>2</th>\n",
       "      <td>B-1154399t</td>\n",
       "      <td>ND</td>\n",
       "      <td>2019-8-24 7:1</td>\n",
       "      <td>reparking</td>\n",
       "      <td>1.0</td>\n",
       "      <td>27</td>\n",
       "    </tr>\n",
       "    <tr>\n",
       "      <th>3</th>\n",
       "      <td>y13744087j</td>\n",
       "      <td>PG</td>\n",
       "      <td>2019-8-10 9:29</td>\n",
       "      <td>reparking</td>\n",
       "      <td>1.0</td>\n",
       "      <td>28</td>\n",
       "    </tr>\n",
       "    <tr>\n",
       "      <th>4</th>\n",
       "      <td>F12725233R</td>\n",
       "      <td>YC</td>\n",
       "      <td>2020-11-12 5:22</td>\n",
       "      <td>refuel_check</td>\n",
       "      <td>8.0</td>\n",
       "      <td>47</td>\n",
       "    </tr>\n",
       "  </tbody>\n",
       "</table>\n",
       "</div>"
      ],
      "text/plain": [
       "       car_id worker_id         fix_date     work_type  destroy_degree  \\\n",
       "0  P17494612l        RJ   2020-6-20 2:14     reparking             8.0   \n",
       "1  N-1530212S        LM   2020-2-9 20:25        repair            10.0   \n",
       "2  B-1154399t        ND    2019-8-24 7:1     reparking             1.0   \n",
       "3  y13744087j        PG   2019-8-10 9:29     reparking             1.0   \n",
       "4  F12725233R        YC  2020-11-12 5:22  refuel_check             8.0   \n",
       "\n",
       "   work_duration  \n",
       "0             49  \n",
       "1             48  \n",
       "2             27  \n",
       "3             28  \n",
       "4             47  "
      ]
     },
     "execution_count": 3,
     "metadata": {},
     "output_type": "execute_result"
    }
   ],
   "source": [
    "df.head(5)"
   ]
  },
  {
   "cell_type": "code",
   "execution_count": null,
   "id": "f081ac93-3e64-4dcd-ad19-04e0f0f0da92",
   "metadata": {},
   "outputs": [],
   "source": []
  }
 ],
 "metadata": {
  "kernelspec": {
   "display_name": "Python 3",
   "language": "python",
   "name": "python3"
  },
  "language_info": {
   "codemirror_mode": {
    "name": "ipython",
    "version": 3
   },
   "file_extension": ".py",
   "mimetype": "text/x-python",
   "name": "python",
   "nbconvert_exporter": "python",
   "pygments_lexer": "ipython3",
   "version": "3.8.8"
  }
 },
 "nbformat": 4,
 "nbformat_minor": 5
}
