{
 "cells": [
  {
   "cell_type": "code",
   "execution_count": 1,
   "id": "0f114bce-373a-4b2d-8d62-16b7873e2e89",
   "metadata": {},
   "outputs": [],
   "source": [
    "import pandas as pd"
   ]
  },
  {
   "cell_type": "code",
   "execution_count": 2,
   "id": "03a52265-56ee-4694-b327-262a9fde54ee",
   "metadata": {},
   "outputs": [],
   "source": [
    "df = pd.read_csv('https://raw.githubusercontent.com/a-milenkin/Competitive_Data_Science/main/data/driver_info.csv')"
   ]
  },
  {
   "cell_type": "code",
   "execution_count": 3,
   "id": "9df18279-fe5e-4f84-8b83-f06541d0ac8c",
   "metadata": {},
   "outputs": [
    {
     "data": {
      "text/html": [
       "<div>\n",
       "<style scoped>\n",
       "    .dataframe tbody tr th:only-of-type {\n",
       "        vertical-align: middle;\n",
       "    }\n",
       "\n",
       "    .dataframe tbody tr th {\n",
       "        vertical-align: top;\n",
       "    }\n",
       "\n",
       "    .dataframe thead th {\n",
       "        text-align: right;\n",
       "    }\n",
       "</style>\n",
       "<table border=\"1\" class=\"dataframe\">\n",
       "  <thead>\n",
       "    <tr style=\"text-align: right;\">\n",
       "      <th></th>\n",
       "      <th>age</th>\n",
       "      <th>user_rating</th>\n",
       "      <th>user_rides</th>\n",
       "      <th>user_time_accident</th>\n",
       "      <th>user_id</th>\n",
       "      <th>sex</th>\n",
       "      <th>first_ride_date</th>\n",
       "    </tr>\n",
       "  </thead>\n",
       "  <tbody>\n",
       "    <tr>\n",
       "      <th>0</th>\n",
       "      <td>27</td>\n",
       "      <td>9.0</td>\n",
       "      <td>865</td>\n",
       "      <td>19.0</td>\n",
       "      <td>l17437965W</td>\n",
       "      <td>1</td>\n",
       "      <td>2019-4-2</td>\n",
       "    </tr>\n",
       "    <tr>\n",
       "      <th>1</th>\n",
       "      <td>46</td>\n",
       "      <td>7.9</td>\n",
       "      <td>2116</td>\n",
       "      <td>11.0</td>\n",
       "      <td>Z12362316j</td>\n",
       "      <td>0</td>\n",
       "      <td>2021-11-19</td>\n",
       "    </tr>\n",
       "    <tr>\n",
       "      <th>2</th>\n",
       "      <td>59</td>\n",
       "      <td>7.8</td>\n",
       "      <td>947</td>\n",
       "      <td>4.0</td>\n",
       "      <td>g11098715c</td>\n",
       "      <td>0</td>\n",
       "      <td>2021-1-15</td>\n",
       "    </tr>\n",
       "    <tr>\n",
       "      <th>3</th>\n",
       "      <td>37</td>\n",
       "      <td>7.0</td>\n",
       "      <td>18</td>\n",
       "      <td>4.0</td>\n",
       "      <td>U12618125q</td>\n",
       "      <td>0</td>\n",
       "      <td>2019-11-20</td>\n",
       "    </tr>\n",
       "    <tr>\n",
       "      <th>4</th>\n",
       "      <td>39</td>\n",
       "      <td>8.2</td>\n",
       "      <td>428</td>\n",
       "      <td>7.0</td>\n",
       "      <td>A14375829B</td>\n",
       "      <td>0</td>\n",
       "      <td>2019-7-23</td>\n",
       "    </tr>\n",
       "  </tbody>\n",
       "</table>\n",
       "</div>"
      ],
      "text/plain": [
       "   age  user_rating  user_rides  user_time_accident     user_id  sex  \\\n",
       "0   27          9.0         865                19.0  l17437965W    1   \n",
       "1   46          7.9        2116                11.0  Z12362316j    0   \n",
       "2   59          7.8         947                 4.0  g11098715c    0   \n",
       "3   37          7.0          18                 4.0  U12618125q    0   \n",
       "4   39          8.2         428                 7.0  A14375829B    0   \n",
       "\n",
       "  first_ride_date  \n",
       "0        2019-4-2  \n",
       "1      2021-11-19  \n",
       "2       2021-1-15  \n",
       "3      2019-11-20  \n",
       "4       2019-7-23  "
      ]
     },
     "execution_count": 3,
     "metadata": {},
     "output_type": "execute_result"
    }
   ],
   "source": [
    "df.head(5)"
   ]
  },
  {
   "cell_type": "code",
   "execution_count": 4,
   "id": "dd358e8e-8f7c-43c3-b95b-0506e4a40387",
   "metadata": {},
   "outputs": [
    {
     "data": {
      "text/plain": [
       "33.0"
      ]
     },
     "execution_count": 4,
     "metadata": {},
     "output_type": "execute_result"
    }
   ],
   "source": [
    "df.age.median()"
   ]
  },
  {
   "cell_type": "code",
   "execution_count": 5,
   "id": "6f70baf4-e2e6-4f75-aa18-12ec0396666e",
   "metadata": {},
   "outputs": [
    {
     "data": {
      "text/plain": [
       "5.8"
      ]
     },
     "execution_count": 5,
     "metadata": {},
     "output_type": "execute_result"
    }
   ],
   "source": [
    "df.user_rating.min()"
   ]
  },
  {
   "cell_type": "markdown",
   "id": "65ba43fb-df45-42c7-8ba0-3e2e4d333963",
   "metadata": {},
   "source": [
    "df.user_time_accident.value_counts()"
   ]
  },
  {
   "cell_type": "code",
   "execution_count": 9,
   "id": "cfdbe0a4-c107-44fe-8330-c3d4fc1c466a",
   "metadata": {},
   "outputs": [
    {
     "data": {
      "text/html": [
       "<div>\n",
       "<style scoped>\n",
       "    .dataframe tbody tr th:only-of-type {\n",
       "        vertical-align: middle;\n",
       "    }\n",
       "\n",
       "    .dataframe tbody tr th {\n",
       "        vertical-align: top;\n",
       "    }\n",
       "\n",
       "    .dataframe thead th {\n",
       "        text-align: right;\n",
       "    }\n",
       "</style>\n",
       "<table border=\"1\" class=\"dataframe\">\n",
       "  <thead>\n",
       "    <tr style=\"text-align: right;\">\n",
       "      <th></th>\n",
       "      <th>age</th>\n",
       "      <th>user_rating</th>\n",
       "      <th>user_rides</th>\n",
       "      <th>user_time_accident</th>\n",
       "      <th>user_id</th>\n",
       "      <th>sex</th>\n",
       "      <th>first_ride_date</th>\n",
       "    </tr>\n",
       "  </thead>\n",
       "  <tbody>\n",
       "    <tr>\n",
       "      <th>15152</th>\n",
       "      <td>18</td>\n",
       "      <td>7.8</td>\n",
       "      <td>83</td>\n",
       "      <td>0.0</td>\n",
       "      <td>S19178709w</td>\n",
       "      <td>1</td>\n",
       "      <td>2019-10-23</td>\n",
       "    </tr>\n",
       "  </tbody>\n",
       "</table>\n",
       "</div>"
      ],
      "text/plain": [
       "       age  user_rating  user_rides  user_time_accident     user_id  sex  \\\n",
       "15152   18          7.8          83                 0.0  S19178709w    1   \n",
       "\n",
       "      first_ride_date  \n",
       "15152      2019-10-23  "
      ]
     },
     "execution_count": 9,
     "metadata": {},
     "output_type": "execute_result"
    }
   ],
   "source": [
    "df.tail(1)"
   ]
  },
  {
   "cell_type": "code",
   "execution_count": 10,
   "id": "d323c133-21d8-453a-b76e-d1a1c55780fd",
   "metadata": {},
   "outputs": [
    {
     "data": {
      "text/html": [
       "<div>\n",
       "<style scoped>\n",
       "    .dataframe tbody tr th:only-of-type {\n",
       "        vertical-align: middle;\n",
       "    }\n",
       "\n",
       "    .dataframe tbody tr th {\n",
       "        vertical-align: top;\n",
       "    }\n",
       "\n",
       "    .dataframe thead th {\n",
       "        text-align: right;\n",
       "    }\n",
       "</style>\n",
       "<table border=\"1\" class=\"dataframe\">\n",
       "  <thead>\n",
       "    <tr style=\"text-align: right;\">\n",
       "      <th></th>\n",
       "      <th>age</th>\n",
       "      <th>user_rating</th>\n",
       "      <th>user_rides</th>\n",
       "      <th>user_time_accident</th>\n",
       "      <th>sex</th>\n",
       "    </tr>\n",
       "  </thead>\n",
       "  <tbody>\n",
       "    <tr>\n",
       "      <th>count</th>\n",
       "      <td>15153.000000</td>\n",
       "      <td>15153.000000</td>\n",
       "      <td>15153.000000</td>\n",
       "      <td>14182.000000</td>\n",
       "      <td>15153.000000</td>\n",
       "    </tr>\n",
       "    <tr>\n",
       "      <th>mean</th>\n",
       "      <td>33.581073</td>\n",
       "      <td>8.109345</td>\n",
       "      <td>871.015442</td>\n",
       "      <td>10.129601</td>\n",
       "      <td>0.499967</td>\n",
       "    </tr>\n",
       "    <tr>\n",
       "      <th>std</th>\n",
       "      <td>9.919271</td>\n",
       "      <td>0.668246</td>\n",
       "      <td>573.512378</td>\n",
       "      <td>8.867482</td>\n",
       "      <td>0.500016</td>\n",
       "    </tr>\n",
       "    <tr>\n",
       "      <th>min</th>\n",
       "      <td>18.000000</td>\n",
       "      <td>5.800000</td>\n",
       "      <td>0.000000</td>\n",
       "      <td>0.000000</td>\n",
       "      <td>0.000000</td>\n",
       "    </tr>\n",
       "    <tr>\n",
       "      <th>25%</th>\n",
       "      <td>25.000000</td>\n",
       "      <td>7.700000</td>\n",
       "      <td>421.000000</td>\n",
       "      <td>4.000000</td>\n",
       "      <td>0.000000</td>\n",
       "    </tr>\n",
       "    <tr>\n",
       "      <th>50%</th>\n",
       "      <td>33.000000</td>\n",
       "      <td>8.100000</td>\n",
       "      <td>876.000000</td>\n",
       "      <td>9.000000</td>\n",
       "      <td>0.000000</td>\n",
       "    </tr>\n",
       "    <tr>\n",
       "      <th>75%</th>\n",
       "      <td>41.000000</td>\n",
       "      <td>8.600000</td>\n",
       "      <td>1145.000000</td>\n",
       "      <td>14.000000</td>\n",
       "      <td>1.000000</td>\n",
       "    </tr>\n",
       "    <tr>\n",
       "      <th>max</th>\n",
       "      <td>63.000000</td>\n",
       "      <td>10.000000</td>\n",
       "      <td>3316.000000</td>\n",
       "      <td>86.000000</td>\n",
       "      <td>1.000000</td>\n",
       "    </tr>\n",
       "  </tbody>\n",
       "</table>\n",
       "</div>"
      ],
      "text/plain": [
       "                age   user_rating    user_rides  user_time_accident  \\\n",
       "count  15153.000000  15153.000000  15153.000000        14182.000000   \n",
       "mean      33.581073      8.109345    871.015442           10.129601   \n",
       "std        9.919271      0.668246    573.512378            8.867482   \n",
       "min       18.000000      5.800000      0.000000            0.000000   \n",
       "25%       25.000000      7.700000    421.000000            4.000000   \n",
       "50%       33.000000      8.100000    876.000000            9.000000   \n",
       "75%       41.000000      8.600000   1145.000000           14.000000   \n",
       "max       63.000000     10.000000   3316.000000           86.000000   \n",
       "\n",
       "                sex  \n",
       "count  15153.000000  \n",
       "mean       0.499967  \n",
       "std        0.500016  \n",
       "min        0.000000  \n",
       "25%        0.000000  \n",
       "50%        0.000000  \n",
       "75%        1.000000  \n",
       "max        1.000000  "
      ]
     },
     "execution_count": 10,
     "metadata": {},
     "output_type": "execute_result"
    }
   ],
   "source": [
    "df.describe()"
   ]
  },
  {
   "cell_type": "code",
   "execution_count": 12,
   "id": "9dab9398-4f15-4765-b46c-69847f776347",
   "metadata": {},
   "outputs": [
    {
     "data": {
      "text/plain": [
       "age                   2478\n",
       "user_rating           2478\n",
       "user_rides            2478\n",
       "user_time_accident    2478\n",
       "user_id               2478\n",
       "sex                   2478\n",
       "first_ride_date       2478\n",
       "dtype: int64"
      ]
     },
     "execution_count": 12,
     "metadata": {},
     "output_type": "execute_result"
    }
   ],
   "source": [
    "df[(df.age < 40) & (df.user_time_accident >4.5) & (df.user_time_accident <= 9)].count()"
   ]
  },
  {
   "cell_type": "code",
   "execution_count": null,
   "id": "a66b9c0b-de4d-48e3-a1f7-c5d2db2ab212",
   "metadata": {},
   "outputs": [],
   "source": []
  }
 ],
 "metadata": {
  "kernelspec": {
   "display_name": "Python 3",
   "language": "python",
   "name": "python3"
  },
  "language_info": {
   "codemirror_mode": {
    "name": "ipython",
    "version": 3
   },
   "file_extension": ".py",
   "mimetype": "text/x-python",
   "name": "python",
   "nbconvert_exporter": "python",
   "pygments_lexer": "ipython3",
   "version": "3.8.8"
  }
 },
 "nbformat": 4,
 "nbformat_minor": 5
}
